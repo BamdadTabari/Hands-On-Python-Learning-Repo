{
 "cells": [
  {
   "cell_type": "markdown",
   "metadata": {},
   "source": [
    "# HTML ENTITIES\n",
    "\n",
    "> Python 3.4 added another way to convert to and from Unicode but using HTML\n",
    "character entities.\n",
    "\n",
    " This may be easier to use than looking up Unicode names, especially if you’re working on the web:"
   ]
  },
  {
   "cell_type": "code",
   "execution_count": null,
   "metadata": {},
   "outputs": [],
   "source": [
    "import html \n",
    "\n",
    "html.unscape(\"&egrave;\")"
   ]
  },
  {
   "cell_type": "code",
   "execution_count": null,
   "metadata": {},
   "outputs": [],
   "source": []
  }
 ],
 "metadata": {
  "language_info": {
   "name": "python"
  }
 },
 "nbformat": 4,
 "nbformat_minor": 2
}
