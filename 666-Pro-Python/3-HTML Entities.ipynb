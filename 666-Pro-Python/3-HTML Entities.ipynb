{
 "cells": [
  {
   "cell_type": "markdown",
   "metadata": {},
   "source": [
    "# HTML ENTITIES\n",
    "\n",
    "> Python 3.4 added another way to convert to and from Unicode but using HTML\n",
    "character entities.\n",
    "\n",
    " This may be easier to use than looking up Unicode names, especially if you’re working on the web:"
   ]
  },
  {
   "cell_type": "code",
   "execution_count": 2,
   "metadata": {},
   "outputs": [
    {
     "data": {
      "text/plain": [
       "'è'"
      ]
     },
     "execution_count": 2,
     "metadata": {},
     "output_type": "execute_result"
    }
   ],
   "source": [
    "import html \n",
    "\n",
    "html.unescape(\"&egrave;\")"
   ]
  },
  {
   "cell_type": "markdown",
   "metadata": {},
   "source": [
    ">This conversion also works with numbered entities, decimal or hex:"
   ]
  },
  {
   "cell_type": "code",
   "execution_count": 7,
   "metadata": {},
   "outputs": [
    {
     "name": "stdout",
     "output_type": "stream",
     "text": [
      "é\n",
      "à\n",
      "á\n",
      "â\n",
      "ã\n",
      "ä\n",
      "å\n",
      "æ\n",
      "ç\n",
      "è\n",
      "é\n",
      "ʚ\n"
     ]
    }
   ],
   "source": [
    "import html\n",
    "print(html.unescape(\"&#233;\"))\n",
    "print(html.unescape(\"&#xe0;\"))\n",
    "print(html.unescape(\"&#xe1;\"))\n",
    "print(html.unescape(\"&#xe2;\"))\n",
    "print(html.unescape(\"&#xe3;\"))\n",
    "print(html.unescape(\"&#xe4;\"))\n",
    "print(html.unescape(\"&#xe5;\"))\n",
    "print(html.unescape(\"&#xe6;\"))\n",
    "print(html.unescape(\"&#xe7;\"))\n",
    "print(html.unescape(\"&#xe8;\"))\n",
    "print(html.unescape(\"&#xe9;\"))\n",
    "print(html.unescape(\"&#666;\"))"
   ]
  },
  {
   "cell_type": "markdown",
   "metadata": {},
   "source": [
    ">You can even import the named entity translations as a dictionary and do the conver‐\n",
    "sion yourself. Drop the initial '&' for the dictionary key (you can also drop the final\n",
    "';', but it seems to work either way):\n"
   ]
  },
  {
   "cell_type": "code",
   "execution_count": 9,
   "metadata": {},
   "outputs": [
    {
     "name": "stdout",
     "output_type": "stream",
     "text": [
      "è\n",
      "è\n"
     ]
    }
   ],
   "source": [
    "from html.entities import html5\n",
    "print(html5[\"egrave\"])\n",
    "print(html5[\"egrave;\"])"
   ]
  },
  {
   "cell_type": "markdown",
   "metadata": {},
   "source": [
    ">To go the other direction (from a single Python Unicode character to an HTML\n",
    "entity name), first get the decimal value of the character with ord():\n"
   ]
  },
  {
   "cell_type": "code",
   "execution_count": 10,
   "metadata": {},
   "outputs": [],
   "source": [
    "import html\n",
    "char = '\\u00e9'\n",
    "dec_value = ord(char) # ord() => Return the Unicode code point for a one-character string.\n"
   ]
  },
  {
   "cell_type": "code",
   "execution_count": null,
   "metadata": {},
   "outputs": [],
   "source": []
  }
 ],
 "metadata": {
  "kernelspec": {
   "display_name": ".venv",
   "language": "python",
   "name": "python3"
  },
  "language_info": {
   "codemirror_mode": {
    "name": "ipython",
    "version": 3
   },
   "file_extension": ".py",
   "mimetype": "text/x-python",
   "name": "python",
   "nbconvert_exporter": "python",
   "pygments_lexer": "ipython3",
   "version": "3.12.2"
  }
 },
 "nbformat": 4,
 "nbformat_minor": 2
}
