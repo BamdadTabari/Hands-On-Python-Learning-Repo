{
 "cells": [
  {
   "cell_type": "markdown",
   "metadata": {},
   "source": [
    "# Normalization"
   ]
  },
  {
   "cell_type": "markdown",
   "metadata": {},
   "source": [
    ">Some Unicode characters can be represented by more than one Unicode encoding.\n",
    "They’ll look the same, but won’t compare the same because they have different inter‐\n",
    "nal byte sequences. For example, take the acute accented 'é' in 'café'. Let’s make a\n",
    "single-character 'é' in multiple ways:"
   ]
  },
  {
   "cell_type": "code",
   "execution_count": null,
   "metadata": {},
   "outputs": [],
   "source": []
  }
 ],
 "metadata": {
  "language_info": {
   "name": "python"
  }
 },
 "nbformat": 4,
 "nbformat_minor": 2
}
