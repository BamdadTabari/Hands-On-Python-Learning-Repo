{
 "cells": [
  {
   "cell_type": "markdown",
   "metadata": {},
   "source": [
    "# Normalization"
   ]
  },
  {
   "cell_type": "markdown",
   "metadata": {},
   "source": [
    ">Some Unicode characters can be represented by more than one Unicode encoding.\n",
    "They’ll look the same, but won’t compare the same because they have different internal byte sequences. For example, take the acute accented 'é' in 'café'. Let’s make a\n",
    "single-character 'é' in multiple ways:"
   ]
  },
  {
   "cell_type": "code",
   "execution_count": 1,
   "metadata": {},
   "outputs": [
    {
     "name": "stdout",
     "output_type": "stream",
     "text": [
      "é é é é é\n"
     ]
    },
    {
     "data": {
      "text/plain": [
       "True"
      ]
     },
     "execution_count": 1,
     "metadata": {},
     "output_type": "execute_result"
    }
   ],
   "source": [
    "eacute1 = 'é' # UTF-8, pasted\n",
    "eacute2 = '\\u00e9' # Unicode code point\n",
    "eacute3 = '\\N{LATIN SMALL LETTER E WITH ACUTE}'\n",
    "eacute4 = chr(233) # decimal byte value\n",
    "eacute5 = chr(0xe9) # hex byte value\n",
    "print(eacute1, eacute2, eacute3, eacute4, eacute5)\n",
    "eacute1 == eacute2 == eacute3 == eacute4 == eacute5"
   ]
  },
  {
   "cell_type": "markdown",
   "metadata": {},
   "source": [
    ">Try a few sanity checks:"
   ]
  },
  {
   "cell_type": "code",
   "execution_count": null,
   "metadata": {},
   "outputs": [],
   "source": []
  }
 ],
 "metadata": {
  "kernelspec": {
   "display_name": ".venv",
   "language": "python",
   "name": "python3"
  },
  "language_info": {
   "codemirror_mode": {
    "name": "ipython",
    "version": 3
   },
   "file_extension": ".py",
   "mimetype": "text/x-python",
   "name": "python",
   "nbconvert_exporter": "python",
   "pygments_lexer": "ipython3",
   "version": "3.12.2"
  }
 },
 "nbformat": 4,
 "nbformat_minor": 2
}
