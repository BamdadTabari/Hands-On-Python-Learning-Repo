{
 "cells": [
  {
   "cell_type": "markdown",
   "metadata": {},
   "source": [
    "# Normalization"
   ]
  },
  {
   "cell_type": "markdown",
   "metadata": {},
   "source": [
    ">Some Unicode characters can be represented by more than one Unicode encoding.\n",
    "They’ll look the same, but won’t compare the same because they have different internal byte sequences. For example, take the acute accented 'é' in 'café'. Let’s make a\n",
    "single-character 'é' in multiple ways:"
   ]
  },
  {
   "cell_type": "code",
   "execution_count": 1,
   "metadata": {},
   "outputs": [
    {
     "name": "stdout",
     "output_type": "stream",
     "text": [
      "é é é é é\n"
     ]
    },
    {
     "data": {
      "text/plain": [
       "True"
      ]
     },
     "execution_count": 1,
     "metadata": {},
     "output_type": "execute_result"
    }
   ],
   "source": [
    "eacute1 = 'é' # UTF-8, pasted\n",
    "eacute2 = '\\u00e9' # Unicode code point\n",
    "eacute3 = '\\N{LATIN SMALL LETTER E WITH ACUTE}'\n",
    "eacute4 = chr(233) # decimal byte value\n",
    "eacute5 = chr(0xe9) # hex byte value\n",
    "print(eacute1, eacute2, eacute3, eacute4, eacute5)\n",
    "eacute1 == eacute2 == eacute3 == eacute4 == eacute5"
   ]
  },
  {
   "cell_type": "markdown",
   "metadata": {},
   "source": [
    ">Try a few sanity checks:"
   ]
  },
  {
   "cell_type": "code",
   "execution_count": 3,
   "metadata": {},
   "outputs": [
    {
     "name": "stdout",
     "output_type": "stream",
     "text": [
      "233\n"
     ]
    },
    {
     "data": {
      "text/plain": [
       "233"
      ]
     },
     "execution_count": 3,
     "metadata": {},
     "output_type": "execute_result"
    }
   ],
   "source": [
    "import unicodedata\n",
    "# unicodedata.name() => Returns the name assigned to the character chr as a string.\n",
    "#  If no name is defined, default is returned, or, if not given, ValueError is raised.\n",
    "unicodedata.name(eacute1)\n",
    "\n",
    "# ord: Return the Unicode code point for a one-character string.\n",
    "print(ord(eacute1)) # as a decimal integer\n",
    "0xe9 # Unicode hex integer"
   ]
  },
  {
   "cell_type": "markdown",
   "metadata": {},
   "source": [
    ">Now let’s make an accented e by combining a plain e with an acute accent:\n"
   ]
  },
  {
   "cell_type": "code",
   "execution_count": 4,
   "metadata": {},
   "outputs": [
    {
     "name": "stdout",
     "output_type": "stream",
     "text": [
      "é é é\n"
     ]
    }
   ],
   "source": [
    "eacute_combined1 = \"e\\u0301\"\n",
    "eacute_combined2 = \"e\\N{COMBINING ACUTE ACCENT}\"\n",
    "eacute_combined3 = \"e\" + \"\\u0301\"\n",
    "print(eacute_combined1, eacute_combined2, eacute_combined3)"
   ]
  },
  {
   "cell_type": "code",
   "execution_count": 5,
   "metadata": {},
   "outputs": [
    {
     "data": {
      "text/plain": [
       "True"
      ]
     },
     "execution_count": 5,
     "metadata": {},
     "output_type": "execute_result"
    }
   ],
   "source": [
    "eacute_combined1 == eacute_combined2 == eacute_combined3"
   ]
  },
  {
   "cell_type": "code",
   "execution_count": 6,
   "metadata": {},
   "outputs": [
    {
     "data": {
      "text/plain": [
       "2"
      ]
     },
     "execution_count": 6,
     "metadata": {},
     "output_type": "execute_result"
    }
   ],
   "source": [
    "len(eacute_combined1)"
   ]
  },
  {
   "cell_type": "markdown",
   "metadata": {},
   "source": [
    ">We built a Unicode character from two characters, and it looks the same as the origi‐\n",
    "nal 'é'. But as they say on Sesame Street, one of these things is not like the other:"
   ]
  },
  {
   "cell_type": "code",
   "execution_count": 7,
   "metadata": {},
   "outputs": [
    {
     "data": {
      "text/plain": [
       "False"
      ]
     },
     "execution_count": 7,
     "metadata": {},
     "output_type": "execute_result"
    }
   ],
   "source": [
    "eacute1 == eacute_combined1"
   ]
  },
  {
   "cell_type": "markdown",
   "metadata": {},
   "source": []
  },
  {
   "cell_type": "code",
   "execution_count": null,
   "metadata": {},
   "outputs": [],
   "source": []
  }
 ],
 "metadata": {
  "kernelspec": {
   "display_name": ".venv",
   "language": "python",
   "name": "python3"
  },
  "language_info": {
   "codemirror_mode": {
    "name": "ipython",
    "version": 3
   },
   "file_extension": ".py",
   "mimetype": "text/x-python",
   "name": "python",
   "nbconvert_exporter": "python",
   "pygments_lexer": "ipython3",
   "version": "3.12.2"
  }
 },
 "nbformat": 4,
 "nbformat_minor": 2
}
