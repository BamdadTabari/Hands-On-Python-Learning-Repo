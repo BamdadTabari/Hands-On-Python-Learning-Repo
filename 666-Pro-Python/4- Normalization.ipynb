{
 "cells": [
  {
   "cell_type": "markdown",
   "metadata": {},
   "source": [
    "# Normalization"
   ]
  },
  {
   "cell_type": "markdown",
   "metadata": {},
   "source": [
    ">Some Unicode characters can be represented by more than one Unicode encoding.\n",
    "They’ll look the same, but won’t compare the same because they have different internal byte sequences. For example, take the acute accented 'é' in 'café'. Let’s make a\n",
    "single-character 'é' in multiple ways:"
   ]
  },
  {
   "cell_type": "code",
   "execution_count": null,
   "metadata": {},
   "outputs": [],
   "source": [
    "eacute1 = 'é' # UTF-8, pasted\n",
    "eacute2 = '\\u00e9' # Unicode code point\n",
    "eacute3 = '\\N{LATIN SMALL LETTER E WITH ACUTE}'\n",
    "eacute4 = chr(233) # decimal byte value\n",
    "eacute5 = chr(0xe9) # hex byte value\n",
    "eacute1, eacute2, eacute3, eacute4, eacute5\n",
    "eacute1 == eacute2 == eacute3 == eacute4 == eacute5"
   ]
  }
 ],
 "metadata": {
  "language_info": {
   "name": "python"
  }
 },
 "nbformat": 4,
 "nbformat_minor": 2
}
