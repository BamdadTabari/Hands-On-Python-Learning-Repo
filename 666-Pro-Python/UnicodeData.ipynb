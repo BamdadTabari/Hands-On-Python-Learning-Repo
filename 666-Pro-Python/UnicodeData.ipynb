{
 "cells": [
  {
   "cell_type": "markdown",
   "metadata": {},
   "source": [
    "# welcome to encoding and decoding part \n",
    "## here I show you everything about these concept"
   ]
  },
  {
   "cell_type": "markdown",
   "metadata": {},
   "source": [
    "# ENCODE"
   ]
  },
  {
   "cell_type": "code",
   "execution_count": 1,
   "metadata": {},
   "outputs": [
    {
     "name": "stdout",
     "output_type": "stream",
     "text": [
      "value=\"@\", name=\"COMMERCIAL AT\", value2=\"@\"\n",
      "value=\"☃\", name=\"SNOWMAN\", value2=\"☃\"\n"
     ]
    }
   ],
   "source": [
    "import unicodedata\n",
    "\n",
    "#  • lookup()—Takes a case-insensitive name and returns a Unicode character\n",
    "#  • name()—Takes a Unicode character and returns an uppercase name\n",
    "\n",
    "def unicode_test(value):\n",
    "    name = unicodedata.name(value)\n",
    "    value2 = unicodedata.lookup(name)\n",
    "    print(f'value=\"{value}\", name=\"{name}\", value2=\"{value2}\"')\n",
    "\n",
    "\n",
    "unicode_test('@') # => value=\"@\", name=\"COMMERCIAL AT\", value2=\"@\"\n",
    "unicode_test('\\u2603') #=> value=\"☃\", name=\"SNOWMAN\", value2=\"☃\"\n",
    "#unicode_test('A') #=> value=\"A\", name=\"LATIN CAPITAL LETTER A\", value2=\"A\n",
    "#unicode_test('$') #=> value=\"$\", name=\"DOLLAR SIGN\", value2=\"$\"\n",
    "\n",
    "\n",
    "\n",
    "\n",
    "                # fun shit #\n",
    "#  Encoding name         Description\n",
    "#  'ascii'              Good old seven-bit ASCII\n",
    "#  'utf-8'              Eight-bit variable-length encoding, and what you almost always want to use\n",
    "#  'latin-1'            Also known as ISO 8859-1\n",
    "#  'cp-1252'            A common Windows encoding\n",
    "#  'unicode-escape'     Python Unicode literal format, `\\u`xxxx or `\\U`xxxxxxxx\n",
    "                # fun shit #"
   ]
  },
  {
   "cell_type": "markdown",
   "metadata": {},
   "source": [
    "> You can encode anything as UTF-8. Let’s assign the Unicode string '\\u2603' to the\n",
    "name snowman:"
   ]
  },
  {
   "cell_type": "code",
   "execution_count": 2,
   "metadata": {},
   "outputs": [],
   "source": [
    "snowman = '\\u2603'"
   ]
  },
  {
   "cell_type": "markdown",
   "metadata": {},
   "source": [
    ">snowman is a Python Unicode string with a single character, regardless of how many\n",
    "bytes might be needed to store it internally"
   ]
  },
  {
   "cell_type": "code",
   "execution_count": 3,
   "metadata": {},
   "outputs": [
    {
     "data": {
      "text/plain": [
       "1"
      ]
     },
     "execution_count": 3,
     "metadata": {},
     "output_type": "execute_result"
    }
   ],
   "source": [
    "len(snowman)"
   ]
  },
  {
   "cell_type": "markdown",
   "metadata": {},
   "source": [
    ">Next, let’s encode this Unicode character to a sequence of bytes"
   ]
  },
  {
   "cell_type": "code",
   "execution_count": 4,
   "metadata": {},
   "outputs": [],
   "source": [
    "ds = snowman.encode('utf-8')"
   ]
  },
  {
   "cell_type": "code",
   "execution_count": 5,
   "metadata": {},
   "outputs": [
    {
     "data": {
      "text/plain": [
       "b'\\xe2\\x98\\x83'"
      ]
     },
     "execution_count": 5,
     "metadata": {},
     "output_type": "execute_result"
    }
   ],
   "source": [
    "ds"
   ]
  },
  {
   "cell_type": "code",
   "execution_count": 7,
   "metadata": {},
   "outputs": [
    {
     "data": {
      "text/plain": [
       "3"
      ]
     },
     "execution_count": 7,
     "metadata": {},
     "output_type": "execute_result"
    }
   ],
   "source": [
    "len(ds)\n"
   ]
  },
  {
   "cell_type": "markdown",
   "metadata": {},
   "source": [
    ">You can use encodings other than UTF-8, but you’ll get errors if the Unicode string\n",
    "can’t be handled by the encoding. For example, if you use the ascii encoding, it will\n",
    "fail unless your Unicode characters happen to be valid ASCII characters, as well:"
   ]
  },
  {
   "cell_type": "code",
   "execution_count": 8,
   "metadata": {},
   "outputs": [
    {
     "ename": "UnicodeEncodeError",
     "evalue": "'ascii' codec can't encode character '\\u2603' in position 0: ordinal not in range(128)",
     "output_type": "error",
     "traceback": [
      "\u001b[1;31m---------------------------------------------------------------------------\u001b[0m",
      "\u001b[1;31mUnicodeEncodeError\u001b[0m                        Traceback (most recent call last)",
      "Cell \u001b[1;32mIn[8], line 1\u001b[0m\n\u001b[1;32m----> 1\u001b[0m ds \u001b[38;5;241m=\u001b[39m \u001b[43msnowman\u001b[49m\u001b[38;5;241;43m.\u001b[39;49m\u001b[43mencode\u001b[49m\u001b[43m(\u001b[49m\u001b[38;5;124;43m'\u001b[39;49m\u001b[38;5;124;43mascii\u001b[39;49m\u001b[38;5;124;43m'\u001b[39;49m\u001b[43m)\u001b[49m\n",
      "\u001b[1;31mUnicodeEncodeError\u001b[0m: 'ascii' codec can't encode character '\\u2603' in position 0: ordinal not in range(128)"
     ]
    }
   ],
   "source": [
    "ds = snowman.encode('ascii')\n"
   ]
  },
  {
   "cell_type": "markdown",
   "metadata": {},
   "source": [
    ">The encode() function takes a second argument to help you avoid encoding excep‐\n",
    "tions. Its default value, which you can see in the previous example, is 'strict'; it\n",
    "raises a UnicodeEncodeError if it sees a non-ASCII character. There are other encod‐\n",
    "ings. Use 'ignore' to throw away anything that won’t encode"
   ]
  },
  {
   "cell_type": "code",
   "execution_count": 9,
   "metadata": {},
   "outputs": [
    {
     "data": {
      "text/plain": [
       "b''"
      ]
     },
     "execution_count": 9,
     "metadata": {},
     "output_type": "execute_result"
    }
   ],
   "source": [
    "snowman.encode('ascii', 'ignore')"
   ]
  },
  {
   "cell_type": "code",
   "execution_count": 11,
   "metadata": {},
   "outputs": [
    {
     "name": "stdout",
     "output_type": "stream",
     "text": [
      "b'kiram dah'\n"
     ]
    }
   ],
   "source": [
    "test_asci = \"kiram dah\"\n",
    "a = test_asci.encode('ascii')\n",
    "print(a)"
   ]
  },
  {
   "cell_type": "markdown",
   "metadata": {},
   "source": [
    ">Use 'replace' to substitute ? for unknown characters"
   ]
  },
  {
   "cell_type": "code",
   "execution_count": 12,
   "metadata": {},
   "outputs": [
    {
     "data": {
      "text/plain": [
       "b'?'"
      ]
     },
     "execution_count": 12,
     "metadata": {},
     "output_type": "execute_result"
    }
   ],
   "source": [
    "snowman.encode('ascii', 'replace')"
   ]
  },
  {
   "cell_type": "markdown",
   "metadata": {},
   "source": [
    ">Use 'backslashreplace' to produce a Python Unicode character string, like\n",
    "unicode-escape"
   ]
  },
  {
   "cell_type": "code",
   "execution_count": 13,
   "metadata": {},
   "outputs": [
    {
     "data": {
      "text/plain": [
       "b'\\\\u2603'"
      ]
     },
     "execution_count": 13,
     "metadata": {},
     "output_type": "execute_result"
    }
   ],
   "source": [
    "snowman.encode('ascii', 'backslashreplace') "
   ]
  },
  {
   "cell_type": "markdown",
   "metadata": {},
   "source": [
    ">Use 'xmlcharrefreplace' to make HTML-safe strings"
   ]
  },
  {
   "cell_type": "code",
   "execution_count": 14,
   "metadata": {},
   "outputs": [
    {
     "data": {
      "text/plain": [
       "b'&#9731;'"
      ]
     },
     "execution_count": 14,
     "metadata": {},
     "output_type": "execute_result"
    }
   ],
   "source": [
    "snowman.encode('ascii', 'xmlcharrefreplace')\n"
   ]
  },
  {
   "cell_type": "markdown",
   "metadata": {},
   "source": [
    "# DECODE "
   ]
  },
  {
   "cell_type": "markdown",
   "metadata": {},
   "source": [
    ">We decode byte strings to Unicode text strings. Whenever we get text from some\n",
    "external source (files, databases, websites, network APIs, and so on), it’s encoded as\n",
    "byte strings. The tricky part is knowing which encoding was actually used, so we can\n",
    "run it backward and get Unicode strings.\n",
    "The problem is that nothing in the byte string itself says what encoding was used. I\n",
    "mentioned the perils of copying and pasting from websites earlier. You’ve probably\n",
    "visited websites with odd characters where plain old ASCII characters should be.\n"
   ]
  },
  {
   "cell_type": "markdown",
   "metadata": {},
   "source": [
    "Let’s create a Unicode string called place with the value 'café'"
   ]
  },
  {
   "cell_type": "code",
   "execution_count": 26,
   "metadata": {},
   "outputs": [
    {
     "data": {
      "text/plain": [
       "str"
      ]
     },
     "execution_count": 26,
     "metadata": {},
     "output_type": "execute_result"
    }
   ],
   "source": [
    "place = 'caf\\u00e9'\n",
    "place\n",
    "type(place)"
   ]
  },
  {
   "cell_type": "markdown",
   "metadata": {},
   "source": [
    ">Encode it in UTF-8 format in a bytes variable called place_bytes:"
   ]
  },
  {
   "cell_type": "code",
   "execution_count": 25,
   "metadata": {},
   "outputs": [
    {
     "name": "stdout",
     "output_type": "stream",
     "text": [
      "b'caf\\xc3\\xa9'\n"
     ]
    },
    {
     "data": {
      "text/plain": [
       "bytes"
      ]
     },
     "execution_count": 25,
     "metadata": {},
     "output_type": "execute_result"
    }
   ],
   "source": [
    "place_bytes = place.encode('utf-8')\n",
    "print(place_bytes)\n",
    "type(place_bytes)"
   ]
  },
  {
   "cell_type": "markdown",
   "metadata": {},
   "source": [
    ">Notice that place_bytes has five bytes. The first three are the same as ASCII (a\n",
    "strength of UTF-8), and the final two encode the 'é'. Now let’s decode that byte\n",
    "string back to a Unicode string:"
   ]
  },
  {
   "cell_type": "code",
   "execution_count": 27,
   "metadata": {},
   "outputs": [
    {
     "data": {
      "text/plain": [
       "5"
      ]
     },
     "execution_count": 27,
     "metadata": {},
     "output_type": "execute_result"
    }
   ],
   "source": [
    "len(place_bytes)"
   ]
  },
  {
   "cell_type": "code",
   "execution_count": 28,
   "metadata": {},
   "outputs": [
    {
     "name": "stdout",
     "output_type": "stream",
     "text": [
      "café\n"
     ]
    }
   ],
   "source": [
    "place2 = place_bytes.decode('utf-8')\n",
    "print(place2)"
   ]
  },
  {
   "cell_type": "markdown",
   "metadata": {},
   "source": [
    ">This worked because we encoded to UTF-8 and decoded from UTF-8. What if we\n",
    "told it to decode from some other encoding?"
   ]
  },
  {
   "cell_type": "code",
   "execution_count": 29,
   "metadata": {},
   "outputs": [
    {
     "ename": "UnicodeDecodeError",
     "evalue": "'ascii' codec can't decode byte 0xc3 in position 3: ordinal not in range(128)",
     "output_type": "error",
     "traceback": [
      "\u001b[1;31m---------------------------------------------------------------------------\u001b[0m",
      "\u001b[1;31mUnicodeDecodeError\u001b[0m                        Traceback (most recent call last)",
      "Cell \u001b[1;32mIn[29], line 1\u001b[0m\n\u001b[1;32m----> 1\u001b[0m place3 \u001b[38;5;241m=\u001b[39m \u001b[43mplace_bytes\u001b[49m\u001b[38;5;241;43m.\u001b[39;49m\u001b[43mdecode\u001b[49m\u001b[43m(\u001b[49m\u001b[38;5;124;43m'\u001b[39;49m\u001b[38;5;124;43mascii\u001b[39;49m\u001b[38;5;124;43m'\u001b[39;49m\u001b[43m)\u001b[49m\n",
      "\u001b[1;31mUnicodeDecodeError\u001b[0m: 'ascii' codec can't decode byte 0xc3 in position 3: ordinal not in range(128)"
     ]
    }
   ],
   "source": [
    "place3 = place_bytes.decode('ascii')"
   ]
  },
  {
   "cell_type": "markdown",
   "metadata": {},
   "source": [
    ">The ASCII decoder threw an exception because the byte value 0xc3 is illegal in\n",
    "ASCII. There are some 8-bit character set encodings in which values between 128\n",
    "(hex 80) and 255 (hex FF) are legal but not the same as UTF-8:"
   ]
  },
  {
   "cell_type": "code",
   "execution_count": 30,
   "metadata": {},
   "outputs": [
    {
     "name": "stdout",
     "output_type": "stream",
     "text": [
      "cafÃ©\n",
      "cafÃ©\n"
     ]
    }
   ],
   "source": [
    "place4 = place_bytes.decode('latin-1')\n",
    "print(place4)\n",
    "place5 = place_bytes.decode('windows-1252')\n",
    "place5\n",
    "print(place5)"
   ]
  },
  {
   "cell_type": "markdown",
   "metadata": {},
   "source": [
    "## NOTE\n",
    " The moral of this story: whenever possible, use UTF-8 encoding. It works, is supported everywhere, can express every Unicode character, and is quickly decoded and\n",
    "encoded."
   ]
  },
  {
   "cell_type": "code",
   "execution_count": null,
   "metadata": {},
   "outputs": [],
   "source": []
  }
 ],
 "metadata": {
  "kernelspec": {
   "display_name": ".venv",
   "language": "python",
   "name": "python3"
  },
  "language_info": {
   "codemirror_mode": {
    "name": "ipython",
    "version": 3
   },
   "file_extension": ".py",
   "mimetype": "text/x-python",
   "name": "python",
   "nbconvert_exporter": "python",
   "pygments_lexer": "ipython3",
   "version": "3.12.2"
  }
 },
 "nbformat": 4,
 "nbformat_minor": 2
}
