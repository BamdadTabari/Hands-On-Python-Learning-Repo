{
 "cells": [
  {
   "cell_type": "markdown",
   "metadata": {},
   "source": [
    "# Welcome to part one of play ground\n",
    "> here we learn basic stuff of python, not all, but them I find that are fun"
   ]
  },
  {
   "cell_type": "markdown",
   "metadata": {},
   "source": [
    "# \"complex\" type in Python"
   ]
  },
  {
   "cell_type": "code",
   "execution_count": 1,
   "metadata": {},
   "outputs": [
    {
     "data": {
      "text/plain": [
       "complex"
      ]
     },
     "execution_count": 1,
     "metadata": {},
     "output_type": "execute_result"
    }
   ],
   "source": [
    "type(2j) # I did not know that python support \"complex\" type "
   ]
  },
  {
   "cell_type": "code",
   "execution_count": 2,
   "metadata": {},
   "outputs": [
    {
     "data": {
      "text/plain": [
       "(-1+0j)"
      ]
     },
     "execution_count": 2,
     "metadata": {},
     "output_type": "execute_result"
    }
   ],
   "source": [
    "1j * 1j # another example of complex type"
   ]
  },
  {
   "cell_type": "markdown",
   "metadata": {},
   "source": [
    "# SET in python\n",
    "\n",
    "A set in Python is a built-in data type used to store collections of unique and unordered elements. It is defined by a collection of elements enclosed in curly braces. Sets are mutable, meaning that you can add or remove elements, but the elements themselves must be of an immutable data type. Sets do not allow duplicate elements and are not indexed, so you cannot access set elements by index. Python provides various methods for working with sets, such as add(), update(), remove(), and clear(). The set() constructor can be used to create a set from an iterable. Sets are useful for performing mathematical set operations like union, intersection, difference, and symmetric difference. They are particularly efficient for checking whether a specific element is contained in the set. Sets are similar to mathematical sets and support operations like intersection, union, and more"
   ]
  },
  {
   "cell_type": "code",
   "execution_count": 4,
   "metadata": {},
   "outputs": [],
   "source": [
    "my_set1 = {1,2} # so this is a \"set\"\n",
    "my_set2 = {1,2,\"kl\"} # also this \n",
    "my_set3 = {1,2,\"kl\",2} # also this represents a set.\n",
    "# but a set is a collection of unique and unordered elements.\n",
    "# Therefore, the duplicate element \"2\" will be ignored,\n",
    "# and the set will contain only unique elements, i.e., {1, 2, \"kl\"}"
   ]
  },
  {
   "cell_type": "code",
   "execution_count": null,
   "metadata": {},
   "outputs": [],
   "source": []
  }
 ],
 "metadata": {
  "kernelspec": {
   "display_name": ".venv",
   "language": "python",
   "name": "python3"
  },
  "language_info": {
   "codemirror_mode": {
    "name": "ipython",
    "version": 3
   },
   "file_extension": ".py",
   "mimetype": "text/x-python",
   "name": "python",
   "nbconvert_exporter": "python",
   "pygments_lexer": "ipython3",
   "version": "3.12.2"
  }
 },
 "nbformat": 4,
 "nbformat_minor": 2
}
