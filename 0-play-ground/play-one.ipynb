{
 "cells": [
  {
   "cell_type": "markdown",
   "metadata": {},
   "source": [
    "# Welcome to part one of play ground\n",
    "> here we learn basic stuff of python, not all, but them I find that are fun"
   ]
  },
  {
   "cell_type": "markdown",
   "metadata": {},
   "source": [
    "# \"complex\" type in Python"
   ]
  },
  {
   "cell_type": "code",
   "execution_count": 1,
   "metadata": {},
   "outputs": [
    {
     "data": {
      "text/plain": [
       "complex"
      ]
     },
     "execution_count": 1,
     "metadata": {},
     "output_type": "execute_result"
    }
   ],
   "source": [
    "type(2j) # I did not know that python support \"complex\" type "
   ]
  },
  {
   "cell_type": "code",
   "execution_count": 2,
   "metadata": {},
   "outputs": [
    {
     "data": {
      "text/plain": [
       "(-1+0j)"
      ]
     },
     "execution_count": 2,
     "metadata": {},
     "output_type": "execute_result"
    }
   ],
   "source": [
    "1j * 1j # another example of complex type"
   ]
  },
  {
   "cell_type": "markdown",
   "metadata": {},
   "source": [
    "# SET in python\n",
    "\n",
    "A set in Python is a built-in data type used to store collections of unique and unordered elements. It is defined by a collection of elements enclosed in curly braces. Sets are mutable, meaning that you can add or remove elements, but the elements themselves must be of an immutable data type. Sets do not allow duplicate elements and are not indexed, so you cannot access set elements by index. Python provides various methods for working with sets, such as add(), update(), remove(), and clear(). The set() constructor can be used to create a set from an iterable. Sets are useful for performing mathematical set operations like union, intersection, difference, and symmetric difference. They are particularly efficient for checking whether a specific element is contained in the set. Sets are similar to mathematical sets and support operations like intersection, union, and more"
   ]
  },
  {
   "cell_type": "code",
   "execution_count": 6,
   "metadata": {},
   "outputs": [],
   "source": [
    "my_set1 = {1,2} # so this is a \"set\"\n",
    "my_set2 = {1,2,\"kl\"} # also this \n",
    "my_set3 = {1,2,\"kl\",2} # also this represents a set.\n",
    "# but a set is a collection of unique and unordered elements.\n",
    "# Therefore, the duplicate element \"2\" will be ignored,\n",
    "# and the set will contain only unique elements, i.e., {1, 2, \"kl\"}"
   ]
  },
  {
   "cell_type": "code",
   "execution_count": 12,
   "metadata": {},
   "outputs": [
    {
     "name": "stdout",
     "output_type": "stream",
     "text": [
      "{1, 2, 'kl'}\n"
     ]
    },
    {
     "data": {
      "text/plain": [
       "set"
      ]
     },
     "execution_count": 12,
     "metadata": {},
     "output_type": "execute_result"
    }
   ],
   "source": [
    "print(my_set3)\n",
    "type(my_set3)"
   ]
  },
  {
   "cell_type": "code",
   "execution_count": 13,
   "metadata": {},
   "outputs": [
    {
     "data": {
      "text/plain": [
       "3"
      ]
     },
     "execution_count": 13,
     "metadata": {},
     "output_type": "execute_result"
    }
   ],
   "source": [
    "len(my_set3)"
   ]
  },
  {
   "cell_type": "code",
   "execution_count": 17,
   "metadata": {},
   "outputs": [
    {
     "data": {
      "text/plain": [
       "True"
      ]
     },
     "execution_count": 17,
     "metadata": {},
     "output_type": "execute_result"
    }
   ],
   "source": [
    "# order does not matter in set but matter in list\n",
    "[1,2] == [2,1] # list  => output: False\n",
    "{1,2} == {2,1} # set => output: True"
   ]
  },
  {
   "cell_type": "code",
   "execution_count": 18,
   "metadata": {},
   "outputs": [
    {
     "data": {
      "text/plain": [
       "True"
      ]
     },
     "execution_count": 18,
     "metadata": {},
     "output_type": "execute_result"
    }
   ],
   "source": [
    "# even this is True\n",
    "{1,2,1,2,2,2,2} == {1,1,1,1,1,1,1,2}"
   ]
  },
  {
   "cell_type": "code",
   "execution_count": 19,
   "metadata": {},
   "outputs": [],
   "source": [
    "# list\n",
    "my_list=[1,2,3]\n",
    "# tuple\n",
    "my_tuple=(1,2,3) # note: you can not modify tuple"
   ]
  },
  {
   "cell_type": "code",
   "execution_count": 27,
   "metadata": {},
   "outputs": [
    {
     "data": {
      "text/plain": [
       "dict_values(['a fruit', 'an animal', True, 123, False])"
      ]
     },
     "execution_count": 27,
     "metadata": {},
     "output_type": "execute_result"
    }
   ],
   "source": [
    "# dictionary \n",
    "my_dic = {\n",
    "    \"apple\": \"a fruit\",\n",
    "    \"bear\": \"an animal\",\n",
    "    1:\"what\",\n",
    "    \"wtf\": 123,\n",
    "    1: True,\n",
    "    0: False\n",
    "}\n",
    "my_dic[1] # this will return the latest value that you set for key=1 \n",
    "my_dic.keys() # output => dict_keys(['apple', 'bear', 1, 'wtf', 0])\n",
    "my_dic.values() # output => dict_values(['a fruit', 'an animal', True, 123, False])\n",
    "# so as you can see this member -> ' 1:\"what\" ' not exist at all"
   ]
  },
  {
   "cell_type": "code",
   "execution_count": null,
   "metadata": {},
   "outputs": [],
   "source": []
  }
 ],
 "metadata": {
  "kernelspec": {
   "display_name": ".venv",
   "language": "python",
   "name": "python3"
  },
  "language_info": {
   "codemirror_mode": {
    "name": "ipython",
    "version": 3
   },
   "file_extension": ".py",
   "mimetype": "text/x-python",
   "name": "python",
   "nbconvert_exporter": "python",
   "pygments_lexer": "ipython3",
   "version": "3.12.2"
  }
 },
 "nbformat": 4,
 "nbformat_minor": 2
}
