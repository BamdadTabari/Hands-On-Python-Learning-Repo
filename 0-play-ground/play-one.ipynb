{
 "cells": [
  {
   "cell_type": "markdown",
   "metadata": {},
   "source": [
    "# Welcome to part one of play ground\n",
    "> here we learn basic stuff of python, not all, but them I find that are fun"
   ]
  },
  {
   "cell_type": "markdown",
   "metadata": {},
   "source": [
    "# \"complex\" type in Python"
   ]
  },
  {
   "cell_type": "code",
   "execution_count": 1,
   "metadata": {},
   "outputs": [
    {
     "data": {
      "text/plain": [
       "complex"
      ]
     },
     "execution_count": 1,
     "metadata": {},
     "output_type": "execute_result"
    }
   ],
   "source": [
    "type(2j) # I did not know that python support \"complex\" type "
   ]
  },
  {
   "cell_type": "code",
   "execution_count": 2,
   "metadata": {},
   "outputs": [
    {
     "data": {
      "text/plain": [
       "(-1+0j)"
      ]
     },
     "execution_count": 2,
     "metadata": {},
     "output_type": "execute_result"
    }
   ],
   "source": [
    "1j * 1j # another example of complex type"
   ]
  },
  {
   "cell_type": "markdown",
   "metadata": {},
   "source": [
    "# SET in python\n",
    "\n",
    "A set in Python is a built-in data type used to store collections of unique and unordered elements. It is defined by a collection of elements enclosed in curly braces. Sets are mutable, meaning that you can add or remove elements, but the elements themselves must be of an immutable data type. Sets do not allow duplicate elements and are not indexed, so you cannot access set elements by index. Python provides various methods for working with sets, such as add(), update(), remove(), and clear(). The set() constructor can be used to create a set from an iterable. Sets are useful for performing mathematical set operations like union, intersection, difference, and symmetric difference. They are particularly efficient for checking whether a specific element is contained in the set. Sets are similar to mathematical sets and support operations like intersection, union, and more"
   ]
  },
  {
   "cell_type": "code",
   "execution_count": 6,
   "metadata": {},
   "outputs": [],
   "source": [
    "my_set1 = {1,2} # so this is a \"set\"\n",
    "my_set2 = {1,2,\"kl\"} # also this \n",
    "my_set3 = {1,2,\"kl\",2} # also this represents a set.\n",
    "# but a set is a collection of unique and unordered elements.\n",
    "# Therefore, the duplicate element \"2\" will be ignored,\n",
    "# and the set will contain only unique elements, i.e., {1, 2, \"kl\"}"
   ]
  },
  {
   "cell_type": "code",
   "execution_count": 12,
   "metadata": {},
   "outputs": [
    {
     "name": "stdout",
     "output_type": "stream",
     "text": [
      "{1, 2, 'kl'}\n"
     ]
    },
    {
     "data": {
      "text/plain": [
       "set"
      ]
     },
     "execution_count": 12,
     "metadata": {},
     "output_type": "execute_result"
    }
   ],
   "source": [
    "print(my_set3)\n",
    "type(my_set3)"
   ]
  },
  {
   "cell_type": "code",
   "execution_count": 13,
   "metadata": {},
   "outputs": [
    {
     "data": {
      "text/plain": [
       "3"
      ]
     },
     "execution_count": 13,
     "metadata": {},
     "output_type": "execute_result"
    }
   ],
   "source": [
    "len(my_set3)"
   ]
  },
  {
   "cell_type": "code",
   "execution_count": 17,
   "metadata": {},
   "outputs": [
    {
     "data": {
      "text/plain": [
       "True"
      ]
     },
     "execution_count": 17,
     "metadata": {},
     "output_type": "execute_result"
    }
   ],
   "source": [
    "# order does not matter in set but matter in list\n",
    "[1,2] == [2,1] # list  => output: False\n",
    "{1,2} == {2,1} # set => output: True"
   ]
  },
  {
   "cell_type": "code",
   "execution_count": 18,
   "metadata": {},
   "outputs": [
    {
     "data": {
      "text/plain": [
       "True"
      ]
     },
     "execution_count": 18,
     "metadata": {},
     "output_type": "execute_result"
    }
   ],
   "source": [
    "# even this is True\n",
    "{1,2,1,2,2,2,2} == {1,1,1,1,1,1,1,2}"
   ]
  },
  {
   "cell_type": "code",
   "execution_count": 19,
   "metadata": {},
   "outputs": [],
   "source": [
    "# list\n",
    "my_list=[1,2,3]\n",
    "# tuple\n",
    "my_tuple=(1,2,3) # note: you can not modify tuple"
   ]
  },
  {
   "cell_type": "code",
   "execution_count": 27,
   "metadata": {},
   "outputs": [
    {
     "data": {
      "text/plain": [
       "dict_values(['a fruit', 'an animal', True, 123, False])"
      ]
     },
     "execution_count": 27,
     "metadata": {},
     "output_type": "execute_result"
    }
   ],
   "source": [
    "# dictionary \n",
    "my_dic = {\n",
    "    \"apple\": \"a fruit\",\n",
    "    \"bear\": \"an animal\",\n",
    "    1:\"what\",\n",
    "    \"wtf\": 123,\n",
    "    1: True,\n",
    "    0: False\n",
    "}\n",
    "my_dic[1] # this will return the latest value that you set for key=1 \n",
    "my_dic.keys() # output => dict_keys(['apple', 'bear', 1, 'wtf', 0])\n",
    "my_dic.values() # output => dict_values(['a fruit', 'an animal', True, 123, False])\n",
    "# so as you can see this member -> ' 1:\"what\" ' not exist at all \n",
    "# note: dictionaries have unique keys"
   ]
  },
  {
   "cell_type": "code",
   "execution_count": 28,
   "metadata": {},
   "outputs": [
    {
     "data": {
      "text/plain": [
       "NoneType"
      ]
     },
     "execution_count": 28,
     "metadata": {},
     "output_type": "execute_result"
    }
   ],
   "source": [
    "# fun thing\n",
    "type(None) #=> NoneType"
   ]
  },
  {
   "cell_type": "code",
   "execution_count": 3,
   "metadata": {},
   "outputs": [],
   "source": [
    "def factorial(num):\n",
    "   try:\n",
    "       # The factorial of a negative number is undefined in mathematics\n",
    "      if num >=0:\n",
    "          result = 1\n",
    "          for i in range(1, num + 1):\n",
    "            result *= i\n",
    "          return result\n",
    "      else:\n",
    "         return None\n",
    "   except:\n",
    "      return None"
   ]
  },
  {
   "cell_type": "code",
   "execution_count": 2,
   "metadata": {},
   "outputs": [
    {
     "data": {
      "text/plain": [
       "120"
      ]
     },
     "execution_count": 2,
     "metadata": {},
     "output_type": "execute_result"
    }
   ],
   "source": [
    "# also you can use math.factorial() function in Python's math module\n",
    "import math \n",
    "math.factorial(5)"
   ]
  },
  {
   "cell_type": "code",
   "execution_count": 4,
   "metadata": {},
   "outputs": [],
   "source": [
    "# ok what the hell is this?\n",
    "class Sample(): ... \n",
    "\n",
    "# i find the answer :"
   ]
  },
  {
   "cell_type": "markdown",
   "metadata": {},
   "source": [
    "# question about above block :\n",
    "\n",
    "what are these 3 dots in front of it? let me show you an example that where first I found something like this:\n",
    "here in _decimal.pyi file  I found this class defined like this=>\n",
    "\"class DecimalException(ArithmeticError): ...\" why it is defined like this? also there was more=>\"class Clamped(DecimalException): ...\n",
    "class InvalidOperation(DecimalException): ...\n",
    "class ConversionSyntax(InvalidOperation): ...\n",
    "class DivisionByZero(DecimalException, ZeroDivisionError): ...\n",
    "class DivisionImpossible(InvalidOperation): ...\n",
    "class DivisionUndefined(InvalidOperation, ZeroDivisionError): ...\n",
    "class Inexact(DecimalException): ...\n",
    "class InvalidContext(InvalidOperation): ...\n",
    "class Rounded(DecimalException): ...\n",
    "class Subnormal(DecimalException): ...\n",
    "class Overflow(Inexact, Rounded): ...\n",
    "class Underflow(Inexact, Rounded, Subnormal): ...\n",
    "class FloatOperation(DecimalException, TypeError): ...\"\n",
    "\n",
    "also there is functions like them => \"\n",
    "def setcontext(__context: Context) -> None: ...\n",
    "def getcontext() -> Context: ...\"\n",
    "\n",
    "what are these ?\n",
    "\n",
    "# the answer :\n",
    "\n",
    "In Python, the three dots (...) at the beginning of a class definition in a file, such as _decimal.pyi, indicate that the class is defined in a separate file. This is a convention used in Python's type hinting system, which is part of the type annotations feature. The three dots indicate that the class is defined in another module, and the Python interpreter will look for the class definition in that module. This allows for more concise and readable type hints, especially when dealing with large libraries or when a class is defined in a separate file.\n",
    "\n",
    "For example, if the DecimalException class is defined in a separate file, _decimal.py, the type hint in _decimal.pyi would look like this:\n",
    "\n",
    ">\n",
    ">python\n",
    ">\n",
    ">from ._decimal import DecimalException\n",
    ">\n",
    ">class DecimalException(ArithmeticError):  # ... (three dots)\n",
    ">    ...\n",
    ">\n",
    "\n",
    "This indicates that the DecimalException class is defined in the _decimal module, which is in the same directory as the _decimal.pyi file. The three dots are a way to indicate this relationship without having to explicitly import the module in the type hint.\n",
    "The same convention applies to functions and other entities that are defined in separate files. The three dots indicate that the definition is in another file, and the Python interpreter will look for it there."
   ]
  },
  {
   "cell_type": "code",
   "execution_count": null,
   "metadata": {},
   "outputs": [],
   "source": [
    "# we want to write a function that Convert Hexadecimal to Decimal\n",
    "# Converts a string hexadecimal number into an integer decimal\n",
    "# If hexNum is not a valid hexadecimal number, returns None\n",
    "def hexToDec(hexNum):\n",
    "    pass"
   ]
  },
  {
   "cell_type": "markdown",
   "metadata": {},
   "source": [
    "# what is \"ast\" module ?\n",
    "\n",
    "The ast module in Python is a standard library module that helps Python applications to process trees of the Python abstract syntax grammar. It provides a set of functions for working with abstract syntax trees (ASTs), which are a hierarchical, tree-like data structure that represents the syntactic structure of a program. The ast module can be used to create, visit, and modify ASTs related to Python source code. It is particularly useful for tasks such as code analysis, optimization, transformation, tooling, and automation. The module provides functions for parsing Python code and constructing an AST tree, as well as for analyzing, traversing, and transforming the AST. The AST captures the essential elements of the program’s syntax, providing a structured representation of operators, functions, statements, and expressions. The ast module is an essential tool for Python developers who want to analyze and manipulate Python code programmatically. It is built into the standard library and is widely used in various Python tools and libraries for tasks such as linters, code formatters, static analyzers, and more."
   ]
  },
  {
   "cell_type": "markdown",
   "metadata": {},
   "source": []
  }
 ],
 "metadata": {
  "kernelspec": {
   "display_name": ".venv",
   "language": "python",
   "name": "python3"
  },
  "language_info": {
   "codemirror_mode": {
    "name": "ipython",
    "version": 3
   },
   "file_extension": ".py",
   "mimetype": "text/x-python",
   "name": "python",
   "nbconvert_exporter": "python",
   "pygments_lexer": "ipython3",
   "version": "3.12.2"
  }
 },
 "nbformat": 4,
 "nbformat_minor": 2
}
