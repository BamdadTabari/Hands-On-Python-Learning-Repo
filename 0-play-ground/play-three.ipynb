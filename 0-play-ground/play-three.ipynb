{
 "cells": [
  {
   "cell_type": "markdown",
   "metadata": {},
   "source": [
    "# welcome to play ground number 3"
   ]
  },
  {
   "cell_type": "code",
   "execution_count": 1,
   "metadata": {},
   "outputs": [],
   "source": [
    "#locals()\n",
    "def test_locals(n1,n2,n3):\n",
    "    print(locals())"
   ]
  },
  {
   "cell_type": "code",
   "execution_count": 2,
   "metadata": {},
   "outputs": [
    {
     "name": "stdout",
     "output_type": "stream",
     "text": [
      "{'n1': 1, 'n2': 2, 'n3': 3}\n"
     ]
    }
   ],
   "source": [
    "test_locals(1,2,3) # => {'n1': 1, 'n2': 2, 'n3': 3}"
   ]
  },
  {
   "cell_type": "code",
   "execution_count": 3,
   "metadata": {},
   "outputs": [
    {
     "name": "stdout",
     "output_type": "stream",
     "text": [
      "{'__name__': '__main__', '__doc__': 'Automatically created module for IPython interactive environment', '__package__': None, '__loader__': None, '__spec__': None, '__builtin__': <module 'builtins' (built-in)>, '__builtins__': <module 'builtins' (built-in)>, '_ih': ['', '#locals()\\ndef test_locals(n1,n2,n3):\\n    print(locals())', 'test_locals(1,2,3)', 'print(globals()) '], '_oh': {}, '_dh': [WindowsPath('d:/1-work-space/666-Learn/1-linkedin/0-Python Essential Training/0-training-python/0-play-ground'), WindowsPath('d:/1-work-space/666-Learn/1-linkedin/0-Python Essential Training/0-training-python/0-play-ground')], 'In': ['', '#locals()\\ndef test_locals(n1,n2,n3):\\n    print(locals())', 'test_locals(1,2,3)', 'print(globals()) '], 'Out': {}, 'get_ipython': <bound method InteractiveShell.get_ipython of <ipykernel.zmqshell.ZMQInteractiveShell object at 0x000001A790EE44A0>>, 'exit': <IPython.core.autocall.ZMQExitAutocall object at 0x000001A79213F4D0>, 'quit': <IPython.core.autocall.ZMQExitAutocall object at 0x000001A79213F4D0>, 'open': <function open at 0x000001A790296DE0>, '_': '', '__': '', '___': '', '__vsc_ipynb_file__': 'd:\\\\1-work-space\\\\666-Learn\\\\1-linkedin\\\\0-Python Essential Training\\\\0-training-python\\\\0-play-ground\\\\play-three.ipynb', '_i': 'test_locals(1,2,3)', '_ii': '#locals()\\ndef test_locals(n1,n2,n3):\\n    print(locals())', '_iii': '', '_i1': '#locals()\\ndef test_locals(n1,n2,n3):\\n    print(locals())', 'test_locals': <function test_locals at 0x000001A79216B2E0>, '_i2': 'test_locals(1,2,3)', '_i3': 'print(globals()) '}\n"
     ]
    }
   ],
   "source": [
    "print(globals()) "
   ]
  },
  {
   "cell_type": "code",
   "execution_count": 15,
   "metadata": {},
   "outputs": [
    {
     "name": "stdout",
     "output_type": "stream",
     "text": [
      "print(get_ipython)\n"
     ]
    }
   ],
   "source": [
    "print(_iii)"
   ]
  },
  {
   "cell_type": "code",
   "execution_count": 12,
   "metadata": {},
   "outputs": [
    {
     "name": "stdout",
     "output_type": "stream",
     "text": [
      "<bound method InteractiveShell.get_ipython of <ipykernel.zmqshell.ZMQInteractiveShell object at 0x000001A790EE44A0>>\n"
     ]
    }
   ],
   "source": [
    "print(get_ipython)"
   ]
  },
  {
   "cell_type": "code",
   "execution_count": 11,
   "metadata": {},
   "outputs": [
    {
     "name": "stdout",
     "output_type": "stream",
     "text": [
      "<ipykernel.zmqshell.ZMQInteractiveShell object at 0x000001A790EE44A0>\n"
     ]
    }
   ],
   "source": [
    "print(get_ipython())"
   ]
  },
  {
   "cell_type": "code",
   "execution_count": 9,
   "metadata": {},
   "outputs": [
    {
     "name": "stdout",
     "output_type": "stream",
     "text": [
      "['', '#locals()\\ndef test_locals(n1,n2,n3):\\n    print(locals())', 'test_locals(1,2,3)', 'print(globals()) ', 'print(_oh)', 'print(_dh())', 'print(_dh)', 'print(_oh)', 'print(_ih)', 'print(In)']\n"
     ]
    }
   ],
   "source": [
    "print(In)"
   ]
  },
  {
   "cell_type": "code",
   "execution_count": 8,
   "metadata": {},
   "outputs": [
    {
     "name": "stdout",
     "output_type": "stream",
     "text": [
      "['', '#locals()\\ndef test_locals(n1,n2,n3):\\n    print(locals())', 'test_locals(1,2,3)', 'print(globals()) ', 'print(_oh)', 'print(_dh())', 'print(_dh)', 'print(_oh)', 'print(_ih)']\n"
     ]
    }
   ],
   "source": [
    "print(_ih)"
   ]
  },
  {
   "cell_type": "code",
   "execution_count": 6,
   "metadata": {},
   "outputs": [
    {
     "name": "stdout",
     "output_type": "stream",
     "text": [
      "[WindowsPath('d:/1-work-space/666-Learn/1-linkedin/0-Python Essential Training/0-training-python/0-play-ground'), WindowsPath('d:/1-work-space/666-Learn/1-linkedin/0-Python Essential Training/0-training-python/0-play-ground')]\n"
     ]
    }
   ],
   "source": [
    "print(_dh)"
   ]
  },
  {
   "cell_type": "code",
   "execution_count": 7,
   "metadata": {},
   "outputs": [
    {
     "name": "stdout",
     "output_type": "stream",
     "text": [
      "{}\n"
     ]
    }
   ],
   "source": [
    "print(_oh)"
   ]
  },
  {
   "cell_type": "markdown",
   "metadata": {},
   "source": [
    "# inner function :|\n",
    "## plus 'global' statement"
   ]
  },
  {
   "cell_type": "code",
   "execution_count": 22,
   "metadata": {},
   "outputs": [],
   "source": [
    "def new(x,y):\n",
    "    print(x,y)\n",
    "    def inner_func(x,y): # note: inner function scope is local\n",
    "        print(x + 2,y)\n",
    "    inner_func(x,y)\n",
    "    "
   ]
  },
  {
   "cell_type": "code",
   "execution_count": 23,
   "metadata": {},
   "outputs": [
    {
     "name": "stdout",
     "output_type": "stream",
     "text": [
      "1 2\n",
      "3 2\n"
     ]
    }
   ],
   "source": [
    "new(1,2) \n"
   ]
  },
  {
   "cell_type": "markdown",
   "metadata": {},
   "source": [
    "## how to change inner function and local vars scope from local to global"
   ]
  },
  {
   "cell_type": "code",
   "execution_count": 24,
   "metadata": {},
   "outputs": [
    {
     "name": "stdout",
     "output_type": "stream",
     "text": [
      "1 2\n",
      "5 4\n",
      "1\n"
     ]
    }
   ],
   "source": [
    "def new(x,y):\n",
    "    global z \n",
    "    z = x\n",
    "    print(x, y)\n",
    "    def inner_func(x, y):\n",
    "        print(x +  2, y)\n",
    "    global global_inner_func\n",
    "    global_inner_func = inner_func\n",
    "\n",
    "# Example usage:\n",
    "new(1,  2)  # This will print \"1  2\" and then \"3  2\"\n",
    "global_inner_func(3,  4)  # This will print \"5  4\"\n",
    "print(z)"
   ]
  },
  {
   "cell_type": "markdown",
   "metadata": {},
   "source": [
    "# fantastic mr.Python\n",
    "### --------------------------------\n",
    "## fanastic functions : \n",
    "### functions are variables !!!!!!!"
   ]
  },
  {
   "cell_type": "code",
   "execution_count": null,
   "metadata": {},
   "outputs": [],
   "source": []
  }
 ],
 "metadata": {
  "kernelspec": {
   "display_name": ".venv",
   "language": "python",
   "name": "python3"
  },
  "language_info": {
   "codemirror_mode": {
    "name": "ipython",
    "version": 3
   },
   "file_extension": ".py",
   "mimetype": "text/x-python",
   "name": "python",
   "nbconvert_exporter": "python",
   "pygments_lexer": "ipython3",
   "version": "3.12.2"
  }
 },
 "nbformat": 4,
 "nbformat_minor": 2
}
