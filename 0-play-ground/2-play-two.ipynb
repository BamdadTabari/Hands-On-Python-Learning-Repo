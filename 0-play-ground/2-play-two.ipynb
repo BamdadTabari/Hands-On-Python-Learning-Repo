{
 "cells": [
  {
   "cell_type": "markdown",
   "metadata": {},
   "source": [
    "# welcome to play ground number 2"
   ]
  },
  {
   "cell_type": "code",
   "execution_count": 3,
   "metadata": {},
   "outputs": [
    {
     "data": {
      "text/plain": [
       "[1, 2, 2, 4]"
      ]
     },
     "execution_count": 3,
     "metadata": {},
     "output_type": "execute_result"
    }
   ],
   "source": [
    "# tip about list\n",
    "a = [1,2,2]\n",
    "b = a\n",
    "b #=> [1, 2, 2]\n",
    "a.append(4)\n",
    "a # => [1, 2, 2, 4]\n",
    "b # => [1, 2, 2, 4]\n",
    "# thats because the 'a' and 'b' get the same position in memory\n"
   ]
  },
  {
   "cell_type": "code",
   "execution_count": 5,
   "metadata": {},
   "outputs": [
    {
     "data": {
      "text/plain": [
       "[1, 2, 2]"
      ]
     },
     "execution_count": 5,
     "metadata": {},
     "output_type": "execute_result"
    }
   ],
   "source": [
    "# tip about list\n",
    "a = [1,2,2]\n",
    "b = a.copy()\n",
    "b #=> [1, 2, 2]\n",
    "a.append(4)\n",
    "a # => [1, 2, 2, 4]\n",
    "b # => [1, 2, 2]\n",
    "# thats because the 'a' and 'b' get two different positions in memory when we use the 'copy()' method."
   ]
  },
  {
   "cell_type": "markdown",
   "metadata": {},
   "source": [
    "### For / Else   | your mind gonna break"
   ]
  },
  {
   "cell_type": "code",
   "execution_count": 1,
   "metadata": {},
   "outputs": [
    {
     "name": "stdout",
     "output_type": "stream",
     "text": [
      "2 is prime!\n",
      "3 is prime!\n",
      "5 is prime!\n",
      "7 is prime!\n",
      "11 is prime!\n",
      "13 is prime!\n",
      "17 is prime!\n",
      "19 is prime!\n",
      "23 is prime!\n",
      "29 is prime!\n",
      "31 is prime!\n",
      "37 is prime!\n",
      "41 is prime!\n",
      "43 is prime!\n",
      "47 is prime!\n",
      "53 is prime!\n",
      "59 is prime!\n",
      "61 is prime!\n",
      "67 is prime!\n",
      "71 is prime!\n",
      "73 is prime!\n",
      "79 is prime!\n",
      "83 is prime!\n",
      "89 is prime!\n",
      "97 is prime!\n"
     ]
    }
   ],
   "source": [
    "for number in range(2, 100):\n",
    "    for factor in range(2, int(number ** 0.5) + 1):\n",
    "        if number % factor == 0:\n",
    "            break\n",
    "    else:\n",
    "        print(f'{number} is prime!')\n",
    "        \n",
    "# can you see this? for and else?  "
   ]
  },
  {
   "cell_type": "markdown",
   "metadata": {},
   "source": [
    "## breaking news\n",
    "## you can use 'else' statement with 'while' loop too"
   ]
  },
  {
   "cell_type": "code",
   "execution_count": 2,
   "metadata": {},
   "outputs": [
    {
     "name": "stdout",
     "output_type": "stream",
     "text": [
      "as you can see you can use 'else' statement with 'while' loop too\n"
     ]
    }
   ],
   "source": [
    "## breaking news\n",
    "## you can use 'else' statement with 'while' loop too\n",
    "a = True\n",
    "while a:\n",
    "    a= False\n",
    "else:\n",
    "    print(\"as you can see you can use 'else' statement with 'while' loop too\")"
   ]
  },
  {
   "cell_type": "code",
   "execution_count": 3,
   "metadata": {},
   "outputs": [
    {
     "data": {
      "text/plain": [
       "[1, 'Monty', 'Python', 'Monty', 5, 'Monty Python', 7, 'Monty', 'Python']"
      ]
     },
     "execution_count": 3,
     "metadata": {},
     "output_type": "execute_result"
    }
   ],
   "source": [
    "['Monty Python' if n % 6 == 0 else 'Python' if n % 3 == 0 else 'Monty' if n % 2 == 0 else n for n in range(1, 10)]"
   ]
  },
  {
   "cell_type": "code",
   "execution_count": 4,
   "metadata": {},
   "outputs": [
    {
     "name": "stdout",
     "output_type": "stream",
     "text": [
      "Let's print something out!\n"
     ]
    }
   ],
   "source": [
    "for number in range(1, 9):\n",
    "    if number % 10 == 0:\n",
    "        break\n",
    "else:\n",
    "    print('Let\\'s print something out!')"
   ]
  },
  {
   "cell_type": "code",
   "execution_count": 5,
   "metadata": {},
   "outputs": [],
   "source": [
    "for number in range(1, 100):\n",
    "    if number % 10 == 0:\n",
    "        break\n",
    "else:\n",
    "    print('Let\\'s print something out!')"
   ]
  },
  {
   "cell_type": "markdown",
   "metadata": {},
   "source": [
    "# *args & **kwargs\n",
    "## arguments and keyword arguments"
   ]
  },
  {
   "cell_type": "code",
   "execution_count": 6,
   "metadata": {},
   "outputs": [],
   "source": [
    "def operation(*args,**kwargs):\n",
    "    print(args)\n",
    "    print(kwargs)"
   ]
  },
  {
   "cell_type": "code",
   "execution_count": 8,
   "metadata": {},
   "outputs": [
    {
     "name": "stdout",
     "output_type": "stream",
     "text": [
      "(1, 2, 3, 4)\n",
      "{'operation1': 'sum', 'operation2': 'dev'}\n"
     ]
    }
   ],
   "source": [
    "operation(1,2,3,4, operation1=\"sum\",operation2=\"dev\")\n",
    "# => (1, 2, 3, 4) \n",
    "# {'operation1': 'sum', 'operation2': 'dev'}\n",
    "# as you can see args output type is tuple\n",
    "# and kwargs output type is dictionary"
   ]
  },
  {
   "cell_type": "code",
   "execution_count": null,
   "metadata": {},
   "outputs": [],
   "source": []
  }
 ],
 "metadata": {
  "kernelspec": {
   "display_name": ".venv",
   "language": "python",
   "name": "python3"
  },
  "language_info": {
   "codemirror_mode": {
    "name": "ipython",
    "version": 3
   },
   "file_extension": ".py",
   "mimetype": "text/x-python",
   "name": "python",
   "nbconvert_exporter": "python",
   "pygments_lexer": "ipython3",
   "version": "3.12.2"
  }
 },
 "nbformat": 4,
 "nbformat_minor": 2
}
