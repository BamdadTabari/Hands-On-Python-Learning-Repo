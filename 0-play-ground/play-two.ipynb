{
 "cells": [
  {
   "cell_type": "markdown",
   "metadata": {},
   "source": [
    "# welcome to play ground number 2"
   ]
  },
  {
   "cell_type": "code",
   "execution_count": 3,
   "metadata": {},
   "outputs": [
    {
     "data": {
      "text/plain": [
       "[1, 2, 2, 4]"
      ]
     },
     "execution_count": 3,
     "metadata": {},
     "output_type": "execute_result"
    }
   ],
   "source": [
    "# tip about list\n",
    "a = [1,2,2]\n",
    "b = a\n",
    "b #=> [1, 2, 2]\n",
    "a.append(4)\n",
    "a # => [1, 2, 2, 4]\n",
    "b # => [1, 2, 2, 4]\n",
    "# thats because the 'a' and 'b' get the same position in memory\n"
   ]
  },
  {
   "cell_type": "code",
   "execution_count": 5,
   "metadata": {},
   "outputs": [
    {
     "data": {
      "text/plain": [
       "[1, 2, 2]"
      ]
     },
     "execution_count": 5,
     "metadata": {},
     "output_type": "execute_result"
    }
   ],
   "source": [
    "# tip about list\n",
    "a = [1,2,2]\n",
    "b = a.copy()\n",
    "b #=> [1, 2, 2]\n",
    "a.append(4)\n",
    "a # => [1, 2, 2, 4]\n",
    "b # => [1, 2, 2]\n",
    "# thats because the 'a' and 'b' get two different positions in memory when we use the 'copy()' method."
   ]
  },
  {
   "cell_type": "code",
   "execution_count": null,
   "metadata": {},
   "outputs": [],
   "source": []
  }
 ],
 "metadata": {
  "kernelspec": {
   "display_name": ".venv",
   "language": "python",
   "name": "python3"
  },
  "language_info": {
   "codemirror_mode": {
    "name": "ipython",
    "version": 3
   },
   "file_extension": ".py",
   "mimetype": "text/x-python",
   "name": "python",
   "nbconvert_exporter": "python",
   "pygments_lexer": "ipython3",
   "version": "3.12.2"
  }
 },
 "nbformat": 4,
 "nbformat_minor": 2
}
