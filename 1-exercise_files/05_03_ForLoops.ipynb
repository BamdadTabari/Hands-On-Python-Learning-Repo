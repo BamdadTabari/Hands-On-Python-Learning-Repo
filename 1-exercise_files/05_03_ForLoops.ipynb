{
 "cells": [
  {
   "cell_type": "markdown",
   "id": "6e97b9bf",
   "metadata": {},
   "source": [
    "## For"
   ]
  },
  {
   "cell_type": "code",
   "execution_count": 6,
   "id": "5d4b6b1b",
   "metadata": {},
   "outputs": [
    {
     "name": "stdout",
     "output_type": "stream",
     "text": [
      "1\n",
      "2\n",
      "3\n",
      "4\n"
     ]
    }
   ],
   "source": [
    "myList = [1,2,3,4]\n",
    "for item in myList:\n",
    "    print(item)"
   ]
  },
  {
   "cell_type": "markdown",
   "id": "905ce61c",
   "metadata": {},
   "source": [
    "### Pass"
   ]
  },
  {
   "cell_type": "code",
   "execution_count": 7,
   "id": "190c632c",
   "metadata": {},
   "outputs": [],
   "source": [
    "animalLookup = {\n",
    "    'a': ['aardvark', 'antelope'],\n",
    "    'b': ['bear'],\n",
    "    'c': ['cat'],\n",
    "    'd': ['dog'],\n",
    "}\n",
    "\n",
    "for letter, animals in animalLookup.items():\n",
    "    pass\n"
   ]
  },
  {
   "cell_type": "markdown",
   "id": "aa2e7a59",
   "metadata": {},
   "source": [
    "### Continue"
   ]
  },
  {
   "cell_type": "code",
   "execution_count": 8,
   "id": "9bae4823",
   "metadata": {},
   "outputs": [
    {
     "name": "stdout",
     "output_type": "stream",
     "text": [
      "Only one animal! bear\n",
      "Only one animal! cat\n",
      "Only one animal! dog\n"
     ]
    }
   ],
   "source": [
    "for letter, animals in animalLookup.items():\n",
    "    if len(animals) > 1:\n",
    "        continue\n",
    "    print(f'Only one animal! {animals[0]}')"
   ]
  },
  {
   "cell_type": "markdown",
   "id": "d6d0ce9c",
   "metadata": {},
   "source": [
    "### Break"
   ]
  },
  {
   "cell_type": "code",
   "execution_count": 9,
   "id": "725b3e12",
   "metadata": {},
   "outputs": [
    {
     "name": "stdout",
     "output_type": "stream",
     "text": [
      "Found 2 animals: ['aardvark', 'antelope']\n"
     ]
    }
   ],
   "source": [
    "for letter, animals in animalLookup.items():\n",
    "    if len(animals) > 1:\n",
    "        print(f'Found {len(animals)} animals: {animals}')\n",
    "        break"
   ]
  },
  {
   "cell_type": "markdown",
   "id": "b48d42fc",
   "metadata": {},
   "source": [
    "### For / Else"
   ]
  },
  {
   "cell_type": "code",
   "execution_count": 10,
   "id": "4d74a187",
   "metadata": {},
   "outputs": [
    {
     "name": "stdout",
     "output_type": "stream",
     "text": [
      "2 is prime!\n",
      "3 is prime!\n",
      "5 is prime!\n",
      "7 is prime!\n",
      "11 is prime!\n",
      "13 is prime!\n",
      "17 is prime!\n",
      "19 is prime!\n",
      "23 is prime!\n",
      "29 is prime!\n",
      "31 is prime!\n",
      "37 is prime!\n",
      "41 is prime!\n",
      "43 is prime!\n",
      "47 is prime!\n",
      "53 is prime!\n",
      "59 is prime!\n",
      "61 is prime!\n",
      "67 is prime!\n",
      "71 is prime!\n",
      "73 is prime!\n",
      "79 is prime!\n",
      "83 is prime!\n",
      "89 is prime!\n",
      "97 is prime!\n"
     ]
    }
   ],
   "source": [
    "for number in range(2, 100):\n",
    "    for factor in range(2, int(number ** 0.5) + 1):\n",
    "        if number % factor == 0:\n",
    "            break\n",
    "    else:\n",
    "        print(f'{number} is prime!')\n",
    "        "
   ]
  },
  {
   "cell_type": "code",
   "execution_count": 11,
   "id": "92996fbd",
   "metadata": {},
   "outputs": [
    {
     "name": "stdout",
     "output_type": "stream",
     "text": [
      "2 is prime!\n",
      "3 is prime!\n",
      "4 is prime!\n",
      "5 is prime!\n",
      "6 is prime!\n",
      "7 is prime!\n",
      "8 is prime!\n",
      "9 is prime!\n",
      "10 is prime!\n",
      "11 is prime!\n",
      "12 is prime!\n",
      "13 is prime!\n",
      "14 is prime!\n",
      "15 is prime!\n",
      "16 is prime!\n",
      "17 is prime!\n",
      "18 is prime!\n",
      "19 is prime!\n",
      "20 is prime!\n",
      "21 is prime!\n",
      "22 is prime!\n",
      "23 is prime!\n",
      "24 is prime!\n",
      "25 is prime!\n",
      "26 is prime!\n",
      "27 is prime!\n",
      "28 is prime!\n",
      "29 is prime!\n",
      "30 is prime!\n",
      "31 is prime!\n",
      "32 is prime!\n",
      "33 is prime!\n",
      "34 is prime!\n",
      "35 is prime!\n",
      "36 is prime!\n",
      "37 is prime!\n",
      "38 is prime!\n",
      "39 is prime!\n",
      "40 is prime!\n",
      "41 is prime!\n",
      "42 is prime!\n",
      "43 is prime!\n",
      "44 is prime!\n",
      "45 is prime!\n",
      "46 is prime!\n",
      "47 is prime!\n",
      "48 is prime!\n",
      "49 is prime!\n",
      "50 is prime!\n",
      "51 is prime!\n",
      "52 is prime!\n",
      "53 is prime!\n",
      "54 is prime!\n",
      "55 is prime!\n",
      "56 is prime!\n",
      "57 is prime!\n",
      "58 is prime!\n",
      "59 is prime!\n",
      "60 is prime!\n",
      "61 is prime!\n",
      "62 is prime!\n",
      "63 is prime!\n",
      "64 is prime!\n",
      "65 is prime!\n",
      "66 is prime!\n",
      "67 is prime!\n",
      "68 is prime!\n",
      "69 is prime!\n",
      "70 is prime!\n",
      "71 is prime!\n",
      "72 is prime!\n",
      "73 is prime!\n",
      "74 is prime!\n",
      "75 is prime!\n",
      "76 is prime!\n",
      "77 is prime!\n",
      "78 is prime!\n",
      "79 is prime!\n",
      "80 is prime!\n",
      "81 is prime!\n",
      "82 is prime!\n",
      "83 is prime!\n",
      "84 is prime!\n",
      "85 is prime!\n",
      "86 is prime!\n",
      "87 is prime!\n",
      "88 is prime!\n",
      "89 is prime!\n",
      "90 is prime!\n",
      "91 is prime!\n",
      "92 is prime!\n",
      "93 is prime!\n",
      "94 is prime!\n",
      "95 is prime!\n",
      "96 is prime!\n",
      "97 is prime!\n",
      "98 is prime!\n",
      "99 is prime!\n"
     ]
    }
   ],
   "source": [
    "for number in range(2, 100):\n",
    "    found_factors = False\n",
    "    for factor in range(2, int(number ** 0.5) + 1):\n",
    "        if number % factor == 0:\n",
    "            found_factor = True\n",
    "    if not found_factors:\n",
    "        print(f'{number} is prime!')\n",
    "        "
   ]
  },
  {
   "cell_type": "code",
   "execution_count": null,
   "id": "689ef453",
   "metadata": {},
   "outputs": [],
   "source": []
  }
 ],
 "metadata": {
  "kernelspec": {
   "display_name": "Python 3 (ipykernel)",
   "language": "python",
   "name": "python3"
  },
  "language_info": {
   "codemirror_mode": {
    "name": "ipython",
    "version": 3
   },
   "file_extension": ".py",
   "mimetype": "text/x-python",
   "name": "python",
   "nbconvert_exporter": "python",
   "pygments_lexer": "ipython3",
   "version": "3.10.4"
  }
 },
 "nbformat": 4,
 "nbformat_minor": 5
}
