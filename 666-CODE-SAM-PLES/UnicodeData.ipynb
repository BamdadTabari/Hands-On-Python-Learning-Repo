{
 "cells": [
  {
   "cell_type": "code",
   "execution_count": null,
   "metadata": {},
   "outputs": [],
   "source": [
    "import unicodedata\n",
    "\n",
    "#  • lookup()—Takes a case-insensitive name and returns a Unicode character\n",
    "#  • name()—Takes a Unicode character and returns an uppercase name\n",
    "\n",
    "def unicode_test(value):\n",
    "    name = unicodedata.name(value)\n",
    "    value2 = unicodedata.lookup(name)\n",
    "    print(f'value=\"{value}\", name=\"{name}\", value2=\"{value2}\"')\n",
    "\n",
    "\n",
    "unicode_test('@') # => value=\"@\", name=\"COMMERCIAL AT\", value2=\"@\"\n",
    "unicode_test('\\u2603') #=> value=\"☃\", name=\"SNOWMAN\", value2=\"☃\"\n",
    "#unicode_test('A') #=> value=\"A\", name=\"LATIN CAPITAL LETTER A\", value2=\"A\n",
    "#unicode_test('$') #=> value=\"$\", name=\"DOLLAR SIGN\", value2=\"$\"\n",
    "\n",
    "\n",
    "\n",
    "\n",
    "                # fun shit #\n",
    "#  Encoding name         Description\n",
    "#  'ascii'              Good old seven-bit ASCII\n",
    "#  'utf-8'              Eight-bit variable-length encoding, and what you almost always want to use\n",
    "#  'latin-1'            Also known as ISO 8859-1\n",
    "#  'cp-1252'            A common Windows encoding\n",
    "#  'unicode-escape'     Python Unicode literal format, `\\u`xxxx or `\\U`xxxxxxxx\n",
    "                # fun shit #"
   ]
  }
 ],
 "metadata": {
  "kernelspec": {
   "display_name": ".venv",
   "language": "python",
   "name": "python3"
  },
  "language_info": {
   "name": "python",
   "version": "3.12.2"
  }
 },
 "nbformat": 4,
 "nbformat_minor": 2
}
