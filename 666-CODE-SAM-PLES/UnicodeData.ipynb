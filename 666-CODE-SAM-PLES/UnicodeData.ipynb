{
 "cells": [
  {
   "cell_type": "markdown",
   "metadata": {},
   "source": [
    "# welcome to encoding and decoding part \n",
    "## here I show you everything about these concept"
   ]
  },
  {
   "cell_type": "code",
   "execution_count": 1,
   "metadata": {},
   "outputs": [
    {
     "name": "stdout",
     "output_type": "stream",
     "text": [
      "value=\"@\", name=\"COMMERCIAL AT\", value2=\"@\"\n",
      "value=\"☃\", name=\"SNOWMAN\", value2=\"☃\"\n"
     ]
    }
   ],
   "source": [
    "import unicodedata\n",
    "\n",
    "#  • lookup()—Takes a case-insensitive name and returns a Unicode character\n",
    "#  • name()—Takes a Unicode character and returns an uppercase name\n",
    "\n",
    "def unicode_test(value):\n",
    "    name = unicodedata.name(value)\n",
    "    value2 = unicodedata.lookup(name)\n",
    "    print(f'value=\"{value}\", name=\"{name}\", value2=\"{value2}\"')\n",
    "\n",
    "\n",
    "unicode_test('@') # => value=\"@\", name=\"COMMERCIAL AT\", value2=\"@\"\n",
    "unicode_test('\\u2603') #=> value=\"☃\", name=\"SNOWMAN\", value2=\"☃\"\n",
    "#unicode_test('A') #=> value=\"A\", name=\"LATIN CAPITAL LETTER A\", value2=\"A\n",
    "#unicode_test('$') #=> value=\"$\", name=\"DOLLAR SIGN\", value2=\"$\"\n",
    "\n",
    "\n",
    "\n",
    "\n",
    "                # fun shit #\n",
    "#  Encoding name         Description\n",
    "#  'ascii'              Good old seven-bit ASCII\n",
    "#  'utf-8'              Eight-bit variable-length encoding, and what you almost always want to use\n",
    "#  'latin-1'            Also known as ISO 8859-1\n",
    "#  'cp-1252'            A common Windows encoding\n",
    "#  'unicode-escape'     Python Unicode literal format, `\\u`xxxx or `\\U`xxxxxxxx\n",
    "                # fun shit #"
   ]
  },
  {
   "cell_type": "markdown",
   "metadata": {},
   "source": [
    "> You can encode anything as UTF-8. Let’s assign the Unicode string '\\u2603' to the\n",
    "name snowman:"
   ]
  },
  {
   "cell_type": "code",
   "execution_count": 2,
   "metadata": {},
   "outputs": [],
   "source": [
    "snowman = '\\u2603'"
   ]
  },
  {
   "cell_type": "markdown",
   "metadata": {},
   "source": [
    ">snowman is a Python Unicode string with a single character, regardless of how many\n",
    "bytes might be needed to store it internally"
   ]
  },
  {
   "cell_type": "code",
   "execution_count": 3,
   "metadata": {},
   "outputs": [
    {
     "data": {
      "text/plain": [
       "1"
      ]
     },
     "execution_count": 3,
     "metadata": {},
     "output_type": "execute_result"
    }
   ],
   "source": [
    "len(snowman)"
   ]
  },
  {
   "cell_type": "markdown",
   "metadata": {},
   "source": [
    ">Next, let’s encode this Unicode character to a sequence of bytes"
   ]
  },
  {
   "cell_type": "code",
   "execution_count": 4,
   "metadata": {},
   "outputs": [],
   "source": [
    "ds = snowman.encode('utf-8')"
   ]
  },
  {
   "cell_type": "code",
   "execution_count": 5,
   "metadata": {},
   "outputs": [
    {
     "data": {
      "text/plain": [
       "b'\\xe2\\x98\\x83'"
      ]
     },
     "execution_count": 5,
     "metadata": {},
     "output_type": "execute_result"
    }
   ],
   "source": [
    "ds"
   ]
  },
  {
   "cell_type": "code",
   "execution_count": 7,
   "metadata": {},
   "outputs": [
    {
     "data": {
      "text/plain": [
       "3"
      ]
     },
     "execution_count": 7,
     "metadata": {},
     "output_type": "execute_result"
    }
   ],
   "source": [
    "len(ds)\n"
   ]
  },
  {
   "cell_type": "markdown",
   "metadata": {},
   "source": [
    ">You can use encodings other than UTF-8, but you’ll get errors if the Unicode string\n",
    "can’t be handled by the encoding. For example, if you use the ascii encoding, it will\n",
    "fail unless your Unicode characters happen to be valid ASCII characters, as well:"
   ]
  },
  {
   "cell_type": "code",
   "execution_count": 8,
   "metadata": {},
   "outputs": [
    {
     "ename": "UnicodeEncodeError",
     "evalue": "'ascii' codec can't encode character '\\u2603' in position 0: ordinal not in range(128)",
     "output_type": "error",
     "traceback": [
      "\u001b[1;31m---------------------------------------------------------------------------\u001b[0m",
      "\u001b[1;31mUnicodeEncodeError\u001b[0m                        Traceback (most recent call last)",
      "Cell \u001b[1;32mIn[8], line 1\u001b[0m\n\u001b[1;32m----> 1\u001b[0m ds \u001b[38;5;241m=\u001b[39m \u001b[43msnowman\u001b[49m\u001b[38;5;241;43m.\u001b[39;49m\u001b[43mencode\u001b[49m\u001b[43m(\u001b[49m\u001b[38;5;124;43m'\u001b[39;49m\u001b[38;5;124;43mascii\u001b[39;49m\u001b[38;5;124;43m'\u001b[39;49m\u001b[43m)\u001b[49m\n",
      "\u001b[1;31mUnicodeEncodeError\u001b[0m: 'ascii' codec can't encode character '\\u2603' in position 0: ordinal not in range(128)"
     ]
    }
   ],
   "source": [
    "ds = snowman.encode('ascii')\n"
   ]
  },
  {
   "cell_type": "markdown",
   "metadata": {},
   "source": [
    ">The encode() function takes a second argument to help you avoid encoding excep‐\n",
    "tions. Its default value, which you can see in the previous example, is 'strict'; it\n",
    "raises a UnicodeEncodeError if it sees a non-ASCII character. There are other encod‐\n",
    "ings. Use 'ignore' to throw away anything that won’t encode"
   ]
  },
  {
   "cell_type": "code",
   "execution_count": 9,
   "metadata": {},
   "outputs": [
    {
     "data": {
      "text/plain": [
       "b''"
      ]
     },
     "execution_count": 9,
     "metadata": {},
     "output_type": "execute_result"
    }
   ],
   "source": [
    "snowman.encode('ascii', 'ignore')"
   ]
  },
  {
   "cell_type": "code",
   "execution_count": 11,
   "metadata": {},
   "outputs": [
    {
     "name": "stdout",
     "output_type": "stream",
     "text": [
      "b'kiram dah'\n"
     ]
    }
   ],
   "source": [
    "test_asci = \"kiram dah\"\n",
    "a = test_asci.encode('ascii')\n",
    "print(a)"
   ]
  },
  {
   "cell_type": "code",
   "execution_count": null,
   "metadata": {},
   "outputs": [],
   "source": []
  }
 ],
 "metadata": {
  "kernelspec": {
   "display_name": ".venv",
   "language": "python",
   "name": "python3"
  },
  "language_info": {
   "codemirror_mode": {
    "name": "ipython",
    "version": 3
   },
   "file_extension": ".py",
   "mimetype": "text/x-python",
   "name": "python",
   "nbconvert_exporter": "python",
   "pygments_lexer": "ipython3",
   "version": "3.12.2"
  }
 },
 "nbformat": 4,
 "nbformat_minor": 2
}
