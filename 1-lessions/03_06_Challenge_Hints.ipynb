{
 "cells": [
  {
   "cell_type": "markdown",
   "id": "5cd90a72",
   "metadata": {},
   "source": [
    "## Converting Hexadecimal to Decimal\n",
    "\n",
    "Hexadecimal or \"base 16\" uses all of the numbers 0 - 9, plus a few others to signify higher numbers:\n",
    "\n",
    "A = 10\n",
    "\n",
    "B = 11\n",
    "\n",
    "C = 12\n",
    "\n",
    "D = 13\n",
    "\n",
    "E = 14\n",
    "\n",
    "F = 15\n",
    "\n",
    "Therefore, the number 'D' in hexadecimal would be 13 in decimal.\n",
    "\n",
    "The number '1A' in hexadecimal would be 26 in decimal. Just like we have the \"tens\" place in base 10, hexadecimal has the \"sixteens\" place. So 1A would be 16 + 10 or 26. \n",
    "\n",
    "And just like decimal has the \"hundreds\" place (because 10 * 10 is 100), hexadecimal has the \"256's\" place (because 16 * 16 is 256) So 'ABC' in hexadecimal is (256 * 10) + (16 * 11) + (1 * 12) or 2,748\n",
    "\n",
    "Do not use the \"int\" class to do the conversions for you! However, you can check your work with int('ABC', 16)\n",
    "\n",
    "For the purpose of this exercise, you should be able to convert only hexadecimal numbers that are three characters or less in length. However, if you're up to the challenge, feel free to convert bigger numbers!\n"
   ]
  },
  {
   "cell_type": "markdown",
   "id": "b204bc4e",
   "metadata": {},
   "source": [
    "### Challenge Hints!"
   ]
  },
  {
   "cell_type": "markdown",
   "id": "41ca3358",
   "metadata": {},
   "source": [
    "**Hint 1:** The following will convert 'ABC' into a decimal:\n"
   ]
  },
  {
   "cell_type": "code",
   "execution_count": 2,
   "id": "31190f4a",
   "metadata": {},
   "outputs": [
    {
     "data": {
      "text/plain": [
       "2748"
      ]
     },
     "execution_count": 2,
     "metadata": {},
     "output_type": "execute_result"
    }
   ],
   "source": [
    "hexNumbers = {\n",
    "    '0': 0, '1': 1, '2': 2, '3': 3, '4': 4, '5': 5, '6': 6, '7': 7, '8': 8, '9': 9,\n",
    "    'A': 10, 'B': 11, 'C': 12, 'D': 13, 'E': 14, 'F': 15\n",
    "}\n",
    "\n",
    "hexNumbers['A'] * 256 + hexNumbers['B'] * 16 + hexNumbers['C'] "
   ]
  },
  {
   "cell_type": "markdown",
   "id": "61a884ee",
   "metadata": {},
   "source": [
    "**Hint 2:** You can check to see how long the hex string is with:"
   ]
  },
  {
   "cell_type": "code",
   "execution_count": 4,
   "id": "7f4a3877",
   "metadata": {},
   "outputs": [
    {
     "data": {
      "text/plain": [
       "2"
      ]
     },
     "execution_count": 4,
     "metadata": {},
     "output_type": "execute_result"
    }
   ],
   "source": [
    "hexNum = '1B'\n",
    "len(hexNum)"
   ]
  },
  {
   "cell_type": "markdown",
   "id": "2893d9ef",
   "metadata": {},
   "source": [
    "**Hint 3:** You can get the character at each position of a string like this:"
   ]
  },
  {
   "cell_type": "code",
   "execution_count": 5,
   "id": "a9cb3333",
   "metadata": {},
   "outputs": [
    {
     "name": "stdout",
     "output_type": "stream",
     "text": [
      "A\n",
      "B\n",
      "C\n"
     ]
    }
   ],
   "source": [
    "hexNum = 'ABC'\n",
    "print(hexNum[0])\n",
    "print(hexNum[1])\n",
    "print(hexNum[2])\n"
   ]
  },
  {
   "cell_type": "code",
   "execution_count": 10,
   "id": "cfc54187",
   "metadata": {},
   "outputs": [],
   "source": [
    "hexNumbers = {\n",
    "    '0': 0, '1': 1, '2': 2, '3': 3, '4': 4, '5': 5, '6': 6, '7': 7, '8': 8, '9': 9,\n",
    "    'A': 10, 'B': 11, 'C': 12, 'D': 13, 'E': 14, 'F': 15\n",
    "}\n",
    "\n",
    "# Converts a string hexadecimal number into an integer decimal\n",
    "# If hexNum is not a valid hexadecimal number, returns None\n",
    "def hexToDec(hexNum):\n",
    "    pass"
   ]
  },
  {
   "cell_type": "code",
   "execution_count": 11,
   "id": "6871966d",
   "metadata": {},
   "outputs": [],
   "source": [
    "hexToDec('A')"
   ]
  },
  {
   "cell_type": "code",
   "execution_count": 12,
   "id": "fbac89a5",
   "metadata": {},
   "outputs": [],
   "source": [
    "hexToDec('0')"
   ]
  },
  {
   "cell_type": "code",
   "execution_count": 13,
   "id": "e8471b43",
   "metadata": {},
   "outputs": [],
   "source": [
    "hexToDec('1B')"
   ]
  },
  {
   "cell_type": "code",
   "execution_count": 14,
   "id": "828e6dce",
   "metadata": {},
   "outputs": [],
   "source": [
    "hexToDec('3C0')"
   ]
  },
  {
   "cell_type": "code",
   "execution_count": 15,
   "id": "86051c1a",
   "metadata": {},
   "outputs": [],
   "source": [
    "hexToDec('A6G')"
   ]
  },
  {
   "cell_type": "code",
   "execution_count": 16,
   "id": "598538ff",
   "metadata": {},
   "outputs": [],
   "source": [
    "hexToDec('ZZTOP')"
   ]
  },
  {
   "cell_type": "markdown",
   "id": "40e7a2ce",
   "metadata": {},
   "source": [
    "# answers"
   ]
  },
  {
   "cell_type": "code",
   "execution_count": 4,
   "id": "0051662e",
   "metadata": {},
   "outputs": [],
   "source": [
    "#answer no.1 / using int\n",
    "def hex_to_decimal(hex_string):\n",
    "   try:\n",
    "       decimal_number = int(hex_string, 16)\n",
    "       return decimal_number\n",
    "   except:\n",
    "       return None"
   ]
  },
  {
   "cell_type": "code",
   "execution_count": 8,
   "id": "04d68961",
   "metadata": {},
   "outputs": [
    {
     "name": "stdout",
     "output_type": "stream",
     "text": [
      "10\n"
     ]
    }
   ],
   "source": [
    "print(hex_to_decimal('A'))"
   ]
  },
  {
   "cell_type": "code",
   "execution_count": 7,
   "id": "5962b303",
   "metadata": {},
   "outputs": [
    {
     "name": "stdout",
     "output_type": "stream",
     "text": [
      "None\n"
     ]
    }
   ],
   "source": [
    "print(hex_to_decimal('ZZTOP'))"
   ]
  },
  {
   "cell_type": "code",
   "execution_count": 12,
   "id": "a268c959",
   "metadata": {},
   "outputs": [],
   "source": [
    "import ast"
   ]
  },
  {
   "cell_type": "code",
   "execution_count": 15,
   "id": "ec99278c",
   "metadata": {},
   "outputs": [],
   "source": [
    "#answer no.2 using ast mudule\n",
    "def hex_to_decimal(hex_string):\n",
    "   # try:\n",
    "        decimal_number = ast.literal_eval(hex_string)\n",
    "        return decimal_number\n",
    "    # except:\n",
    "    #     return None"
   ]
  },
  {
   "cell_type": "code",
   "execution_count": 16,
   "id": "ad50410a",
   "metadata": {},
   "outputs": [
    {
     "ename": "ValueError",
     "evalue": "malformed node or string on line 1: <ast.Name object at 0x0000020BBDC776D0>",
     "output_type": "error",
     "traceback": [
      "\u001b[1;31m---------------------------------------------------------------------------\u001b[0m",
      "\u001b[1;31mValueError\u001b[0m                                Traceback (most recent call last)",
      "Cell \u001b[1;32mIn[16], line 1\u001b[0m\n\u001b[1;32m----> 1\u001b[0m \u001b[38;5;28mprint\u001b[39m(\u001b[43mhex_to_decimal\u001b[49m\u001b[43m(\u001b[49m\u001b[38;5;124;43m'\u001b[39;49m\u001b[38;5;124;43mA\u001b[39;49m\u001b[38;5;124;43m'\u001b[39;49m\u001b[43m)\u001b[49m) \u001b[38;5;66;03m#=> None\u001b[39;00m\n",
      "Cell \u001b[1;32mIn[15], line 4\u001b[0m, in \u001b[0;36mhex_to_decimal\u001b[1;34m(hex_string)\u001b[0m\n\u001b[0;32m      2\u001b[0m \u001b[38;5;28;01mdef\u001b[39;00m \u001b[38;5;21mhex_to_decimal\u001b[39m(hex_string):\n\u001b[0;32m      3\u001b[0m    \u001b[38;5;66;03m# try:\u001b[39;00m\n\u001b[1;32m----> 4\u001b[0m         decimal_number \u001b[38;5;241m=\u001b[39m \u001b[43mast\u001b[49m\u001b[38;5;241;43m.\u001b[39;49m\u001b[43mliteral_eval\u001b[49m\u001b[43m(\u001b[49m\u001b[43mhex_string\u001b[49m\u001b[43m)\u001b[49m\n\u001b[0;32m      5\u001b[0m         \u001b[38;5;28;01mreturn\u001b[39;00m decimal_number\n",
      "File \u001b[1;32mC:\\Python312\\Lib\\ast.py:112\u001b[0m, in \u001b[0;36mliteral_eval\u001b[1;34m(node_or_string)\u001b[0m\n\u001b[0;32m    110\u001b[0m                 \u001b[38;5;28;01mreturn\u001b[39;00m left \u001b[38;5;241m-\u001b[39m right\n\u001b[0;32m    111\u001b[0m     \u001b[38;5;28;01mreturn\u001b[39;00m _convert_signed_num(node)\n\u001b[1;32m--> 112\u001b[0m \u001b[38;5;28;01mreturn\u001b[39;00m \u001b[43m_convert\u001b[49m\u001b[43m(\u001b[49m\u001b[43mnode_or_string\u001b[49m\u001b[43m)\u001b[49m\n",
      "File \u001b[1;32mC:\\Python312\\Lib\\ast.py:111\u001b[0m, in \u001b[0;36mliteral_eval.<locals>._convert\u001b[1;34m(node)\u001b[0m\n\u001b[0;32m    109\u001b[0m         \u001b[38;5;28;01melse\u001b[39;00m:\n\u001b[0;32m    110\u001b[0m             \u001b[38;5;28;01mreturn\u001b[39;00m left \u001b[38;5;241m-\u001b[39m right\n\u001b[1;32m--> 111\u001b[0m \u001b[38;5;28;01mreturn\u001b[39;00m \u001b[43m_convert_signed_num\u001b[49m\u001b[43m(\u001b[49m\u001b[43mnode\u001b[49m\u001b[43m)\u001b[49m\n",
      "File \u001b[1;32mC:\\Python312\\Lib\\ast.py:85\u001b[0m, in \u001b[0;36mliteral_eval.<locals>._convert_signed_num\u001b[1;34m(node)\u001b[0m\n\u001b[0;32m     83\u001b[0m     \u001b[38;5;28;01melse\u001b[39;00m:\n\u001b[0;32m     84\u001b[0m         \u001b[38;5;28;01mreturn\u001b[39;00m \u001b[38;5;241m-\u001b[39m operand\n\u001b[1;32m---> 85\u001b[0m \u001b[38;5;28;01mreturn\u001b[39;00m \u001b[43m_convert_num\u001b[49m\u001b[43m(\u001b[49m\u001b[43mnode\u001b[49m\u001b[43m)\u001b[49m\n",
      "File \u001b[1;32mC:\\Python312\\Lib\\ast.py:76\u001b[0m, in \u001b[0;36mliteral_eval.<locals>._convert_num\u001b[1;34m(node)\u001b[0m\n\u001b[0;32m     74\u001b[0m \u001b[38;5;28;01mdef\u001b[39;00m \u001b[38;5;21m_convert_num\u001b[39m(node):\n\u001b[0;32m     75\u001b[0m     \u001b[38;5;28;01mif\u001b[39;00m \u001b[38;5;129;01mnot\u001b[39;00m \u001b[38;5;28misinstance\u001b[39m(node, Constant) \u001b[38;5;129;01mor\u001b[39;00m \u001b[38;5;28mtype\u001b[39m(node\u001b[38;5;241m.\u001b[39mvalue) \u001b[38;5;129;01mnot\u001b[39;00m \u001b[38;5;129;01min\u001b[39;00m (\u001b[38;5;28mint\u001b[39m, \u001b[38;5;28mfloat\u001b[39m, \u001b[38;5;28mcomplex\u001b[39m):\n\u001b[1;32m---> 76\u001b[0m         \u001b[43m_raise_malformed_node\u001b[49m\u001b[43m(\u001b[49m\u001b[43mnode\u001b[49m\u001b[43m)\u001b[49m\n\u001b[0;32m     77\u001b[0m     \u001b[38;5;28;01mreturn\u001b[39;00m node\u001b[38;5;241m.\u001b[39mvalue\n",
      "File \u001b[1;32mC:\\Python312\\Lib\\ast.py:73\u001b[0m, in \u001b[0;36mliteral_eval.<locals>._raise_malformed_node\u001b[1;34m(node)\u001b[0m\n\u001b[0;32m     71\u001b[0m \u001b[38;5;28;01mif\u001b[39;00m lno \u001b[38;5;241m:=\u001b[39m \u001b[38;5;28mgetattr\u001b[39m(node, \u001b[38;5;124m'\u001b[39m\u001b[38;5;124mlineno\u001b[39m\u001b[38;5;124m'\u001b[39m, \u001b[38;5;28;01mNone\u001b[39;00m):\n\u001b[0;32m     72\u001b[0m     msg \u001b[38;5;241m+\u001b[39m\u001b[38;5;241m=\u001b[39m \u001b[38;5;124mf\u001b[39m\u001b[38;5;124m'\u001b[39m\u001b[38;5;124m on line \u001b[39m\u001b[38;5;132;01m{\u001b[39;00mlno\u001b[38;5;132;01m}\u001b[39;00m\u001b[38;5;124m'\u001b[39m\n\u001b[1;32m---> 73\u001b[0m \u001b[38;5;28;01mraise\u001b[39;00m \u001b[38;5;167;01mValueError\u001b[39;00m(msg \u001b[38;5;241m+\u001b[39m \u001b[38;5;124mf\u001b[39m\u001b[38;5;124m'\u001b[39m\u001b[38;5;124m: \u001b[39m\u001b[38;5;132;01m{\u001b[39;00mnode\u001b[38;5;132;01m!r}\u001b[39;00m\u001b[38;5;124m'\u001b[39m)\n",
      "\u001b[1;31mValueError\u001b[0m: malformed node or string on line 1: <ast.Name object at 0x0000020BBDC776D0>"
     ]
    }
   ],
   "source": [
    "print(hex_to_decimal('A')) #=> None"
   ]
  },
  {
   "cell_type": "code",
   "execution_count": null,
   "id": "e51a21a4",
   "metadata": {},
   "outputs": [],
   "source": [
    "# looks like above function is not correct at all"
   ]
  },
  {
   "cell_type": "code",
   "execution_count": 19,
   "id": "4d565c2a",
   "metadata": {},
   "outputs": [],
   "source": [
    "# the right answer / no.3\n",
    "def hex_to_decimal(hex_string):\n",
    "    try:\n",
    "        hex_digits = \"0123456789ABCDEF\"\n",
    "        hex_string = hex_string.upper()\n",
    "        decimal_number = 0\n",
    "        for digit in hex_string:\n",
    "            decimal_number = 16 * decimal_number + hex_digits.index(digit)\n",
    "        return decimal_number\n",
    "    except:\n",
    "        return None\n",
    "    \n",
    "#This function follows this approach:\n",
    "#converting each hexadecimal digit to its decimal equivalent and\n",
    "#then calculating the decimal number by multiplying the current result by 16 and\n",
    "#adding the decimal value of the next digit. For example, hex_to_decimal(\"1A\") will return\n",
    "#the decimal equivalent of the hexadecimal number \"1A,\" which is 26"
   ]
  },
  {
   "cell_type": "code",
   "execution_count": 20,
   "id": "620749c9",
   "metadata": {},
   "outputs": [
    {
     "name": "stdout",
     "output_type": "stream",
     "text": [
      "10\n"
     ]
    }
   ],
   "source": [
    "print(hex_to_decimal('A')) "
   ]
  },
  {
   "cell_type": "code",
   "execution_count": 21,
   "id": "b0929110",
   "metadata": {},
   "outputs": [
    {
     "name": "stdout",
     "output_type": "stream",
     "text": [
      "None\n"
     ]
    }
   ],
   "source": [
    "print(hex_to_decimal('ZZTOP'))"
   ]
  },
  {
   "cell_type": "code",
   "execution_count": 23,
   "id": "71c62104",
   "metadata": {},
   "outputs": [],
   "source": [
    "# no.4\n",
    "def hex_to_decimal(hex_string):\n",
    "    try:\n",
    "        decimal_number = 0\n",
    "        power = 0\n",
    "        hex_digits = \"0123456789ABCDEF\"\n",
    "        for digit in hex_string[::-1]:\n",
    "            decimal_number += hex_digits.index(digit) * (16 ** power)\n",
    "            power += 1\n",
    "        return decimal_number\n",
    "    except:\n",
    "        return None\n",
    "#In this function, we iterate through the hexadecimal string in reverse, starting from the least significant digit. We calculate the decimal equivalent of each digit and consider its position by increasing powers of 16. The hex_digits.index(digit) expression is used to find the decimal value of each hexadecimal digit. This approach provides an alternative way to convert a hexadecimal number to its decimal equivalent without using the int() function or any extra library. For example, hex_to_decimal(\"1A\") will also return the decimal equivalent of the hexadecimal number \"1A,\" which is 26."
   ]
  },
  {
   "cell_type": "code",
   "execution_count": 24,
   "id": "028cf158",
   "metadata": {},
   "outputs": [
    {
     "name": "stdout",
     "output_type": "stream",
     "text": [
      "10\n"
     ]
    }
   ],
   "source": [
    "print(hex_to_decimal('A')) "
   ]
  },
  {
   "cell_type": "code",
   "execution_count": 25,
   "id": "c5b81de6",
   "metadata": {},
   "outputs": [
    {
     "name": "stdout",
     "output_type": "stream",
     "text": [
      "None\n"
     ]
    }
   ],
   "source": [
    "print(hex_to_decimal('ZZTOP'))"
   ]
  },
  {
   "cell_type": "code",
   "execution_count": null,
   "id": "a4f53194",
   "metadata": {},
   "outputs": [],
   "source": [
    "# so , both no.3 and no.4 works correctly"
   ]
  }
 ],
 "metadata": {
  "kernelspec": {
   "display_name": "Python 3.10.4 64-bit",
   "language": "python",
   "name": "python3"
  },
  "language_info": {
   "codemirror_mode": {
    "name": "ipython",
    "version": 3
   },
   "file_extension": ".py",
   "mimetype": "text/x-python",
   "name": "python",
   "nbconvert_exporter": "python",
   "pygments_lexer": "ipython3",
   "version": "3.12.2"
  },
  "vscode": {
   "interpreter": {
    "hash": "949777d72b0d2535278d3dc13498b2535136f6dfe0678499012e853ee9abcab1"
   }
  }
 },
 "nbformat": 4,
 "nbformat_minor": 5
}
