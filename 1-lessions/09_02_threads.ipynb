{
 "cells": [
  {
   "cell_type": "code",
   "execution_count": 1,
   "id": "48a15793",
   "metadata": {
    "scrolled": true
   },
   "outputs": [],
   "source": [
    "import threading\n",
    "import time"
   ]
  },
  {
   "cell_type": "markdown",
   "id": "5be113b0",
   "metadata": {},
   "source": [
    "## Threads"
   ]
  },
  {
   "cell_type": "code",
   "execution_count": 2,
   "id": "230c796a",
   "metadata": {
    "scrolled": true
   },
   "outputs": [
    {
     "data": {
      "text/plain": [
       "[0, 1, 4, 9, 16]"
      ]
     },
     "execution_count": 2,
     "metadata": {},
     "output_type": "execute_result"
    }
   ],
   "source": [
    "def longSquare(num):\n",
    "    time.sleep(1)\n",
    "    return num**2\n",
    "\n",
    "[longSquare(n) for n in range(0, 5)]\n"
   ]
  },
  {
   "cell_type": "code",
   "execution_count": 3,
   "id": "f105891d",
   "metadata": {},
   "outputs": [],
   "source": [
    "t1 = threading.Thread(target=longSquare, args=(1,))\n",
    "t2 = threading.Thread(target=longSquare, args=(2,))\n",
    "\n",
    "t1.start()\n",
    "t2.start()\n",
    "\n",
    "t1.join()\n",
    "t2.join()\n"
   ]
  },
  {
   "cell_type": "code",
   "execution_count": 4,
   "id": "5be33021",
   "metadata": {},
   "outputs": [
    {
     "name": "stdout",
     "output_type": "stream",
     "text": [
      "{1: 1, 2: 4}\n"
     ]
    }
   ],
   "source": [
    "\n",
    "\n",
    "def longSquare(num, results):\n",
    "    time.sleep(1)\n",
    "    results[num] = num**2\n",
    "\n",
    "results = {}\n",
    "t1 = threading.Thread(target=longSquare, args=(1,results))\n",
    "t2 = threading.Thread(target=longSquare, args=(2,results))\n",
    "\n",
    "t1.start()\n",
    "t2.start()\n",
    "\n",
    "t1.join()\n",
    "t2.join()\n",
    "\n",
    "print(results)\n"
   ]
  },
  {
   "cell_type": "code",
   "execution_count": null,
   "id": "c63a0969",
   "metadata": {},
   "outputs": [],
   "source": [
    "\n",
    "\n",
    "def longSquare(num, results):\n",
    "    time.sleep(1)\n",
    "    results[num] = num**2\n",
    "\n",
    "results = {}\n",
    "threads = [threading.Thread(target=longSquare, args=(n, results)) for n in range(0, 1000)]\n",
    "[t.start() for t in threads]\n",
    "[t.join() for t in threads]\n",
    "# what do the join() ?  \n",
    "# Wait until the thread terminates.\n",
    "# This blocks the calling thread until the thread whose join() method is called terminates -- either normally or through an unhandled exception or until the optional timeout occurs.\n",
    "# When the timeout argument is present and not None, it should be a floating point number specifying a timeout for the operation in seconds (or fractions thereof). As join() always returns None, you must call is_alive() after join() to decide whether a timeout happened -- if the thread is still alive, the join() call timed out.\n",
    "# When the timeout argument is not present or None, the operation will block until the thread terminates.\n",
    "# A thread can be join()ed many times.\n",
    "# join() raises a RuntimeError if an attempt is made to join the current thread as that would cause a deadlock. It is also an error to join() a thread before it has been started and attempts to do so raises the same exception.\n",
    "\n",
    "print(results)\n"
   ]
  }
 ],
 "metadata": {
  "kernelspec": {
   "display_name": "Python 3 (ipykernel)",
   "language": "python",
   "name": "python3"
  },
  "language_info": {
   "codemirror_mode": {
    "name": "ipython",
    "version": 3
   },
   "file_extension": ".py",
   "mimetype": "text/x-python",
   "name": "python",
   "nbconvert_exporter": "python",
   "pygments_lexer": "ipython3",
   "version": "3.12.2"
  }
 },
 "nbformat": 4,
 "nbformat_minor": 5
}
