{
 "cells": [
  {
   "cell_type": "markdown",
   "metadata": {},
   "source": [
    "# What You Need to Know About Python 3.12 Typing"
   ]
  },
  {
   "cell_type": "markdown",
   "metadata": {},
   "source": [
    "## 1- Python typing library "
   ]
  },
  {
   "cell_type": "code",
   "execution_count": 4,
   "metadata": {},
   "outputs": [
    {
     "name": "stdout",
     "output_type": "stream",
     "text": [
      "akbar\n"
     ]
    },
    {
     "data": {
      "text/plain": [
       "str"
      ]
     },
     "execution_count": 4,
     "metadata": {},
     "output_type": "execute_result"
    }
   ],
   "source": [
    "name: str = 'akbar' # explicitly typing my variable\n",
    "print(name)\n",
    "type(name)"
   ]
  },
  {
   "cell_type": "code",
   "execution_count": 5,
   "metadata": {},
   "outputs": [
    {
     "name": "stdout",
     "output_type": "stream",
     "text": [
      "2\n"
     ]
    },
    {
     "data": {
      "text/plain": [
       "int"
      ]
     },
     "execution_count": 5,
     "metadata": {},
     "output_type": "execute_result"
    }
   ],
   "source": [
    "# ***** BUT *****\n",
    "name: str = 2 # explicitly typing my variable\n",
    "print(name)\n",
    "type(name)"
   ]
  },
  {
   "cell_type": "code",
   "execution_count": 10,
   "metadata": {},
   "outputs": [],
   "source": [
    "string: str"
   ]
  },
  {
   "cell_type": "code",
   "execution_count": 11,
   "metadata": {},
   "outputs": [
    {
     "ename": "NameError",
     "evalue": "name 'string' is not defined",
     "output_type": "error",
     "traceback": [
      "\u001b[1;31m---------------------------------------------------------------------------\u001b[0m",
      "\u001b[1;31mNameError\u001b[0m                                 Traceback (most recent call last)",
      "Cell \u001b[1;32mIn[11], line 1\u001b[0m\n\u001b[1;32m----> 1\u001b[0m \u001b[38;5;28mtype\u001b[39m(\u001b[43mstring\u001b[49m)\n",
      "\u001b[1;31mNameError\u001b[0m: name 'string' is not defined"
     ]
    }
   ],
   "source": [
    "type(string) # => error, what the fuck?"
   ]
  },
  {
   "cell_type": "markdown",
   "metadata": {},
   "source": [
    "## defining the parameter type and the return type of our function"
   ]
  },
  {
   "cell_type": "code",
   "execution_count": 12,
   "metadata": {},
   "outputs": [],
   "source": [
    "# defining the parameter type and the return type of our function\n",
    "def say_hello(name: str) -> None:\n",
    "    print(f\"Hello, {name}\")"
   ]
  },
  {
   "cell_type": "code",
   "execution_count": 14,
   "metadata": {},
   "outputs": [
    {
     "name": "stdout",
     "output_type": "stream",
     "text": [
      "Hello, 2\n"
     ]
    }
   ],
   "source": [
    "say_hello(2) # => Hello, 2  => still working :|"
   ]
  },
  {
   "cell_type": "code",
   "execution_count": 1,
   "metadata": {},
   "outputs": [],
   "source": [
    "def funct_a(name: str, age): # report error. function partially annotated ❌\n",
    "    ...\n",
    "\n",
    "def funct_b(name, age): # report error. function not annotated ❌\n",
    "    ..."
   ]
  },
  {
   "cell_type": "code",
   "execution_count": 2,
   "metadata": {},
   "outputs": [],
   "source": [
    "def funct_a(name: str, age): # report error. function partially annotated ❌\n",
    "    ...\n",
    "\n",
    "def funct_b(name, age): # no error. ✅\n",
    "    ..."
   ]
  },
  {
   "cell_type": "markdown",
   "metadata": {},
   "source": [
    "# Generic types in Python’s typing\n",
    "\n",
    "In Computer Science we define data types as generic when we don’t know beforehand which type we’re dealing with.\n",
    "\n",
    "The type will be inferred later."
   ]
  },
  {
   "cell_type": "code",
   "execution_count": 3,
   "metadata": {},
   "outputs": [],
   "source": [
    "from dataclasses import dataclass\n",
    "\n",
    "\n",
    "@dataclass\n",
    "class Person:\n",
    "    name: str\n",
    "    age: int\n",
    "\n",
    "\n",
    "people: list[Person] = [] # a "
   ]
  },
  {
   "cell_type": "markdown",
   "metadata": {},
   "source": [
    "In our example above, we create a variable people that is a list. A list is a generic type since it can contain any data type we want.\n",
    "\n",
    "In this case, we explicitly specified that our generic type, list, will be a list of Person. So when we iterate over our list, the type of each item will be inferred as Person:"
   ]
  },
  {
   "cell_type": "code",
   "execution_count": 4,
   "metadata": {},
   "outputs": [],
   "source": [
    "# people: list[Person] = [] from example above\n",
    "\n",
    "\n",
    "# person variable type will be Person\n",
    "for person in people:\n",
    "    print(f\"Name - {person.name}, Age - {person.age}\")"
   ]
  },
  {
   "cell_type": "markdown",
   "metadata": {},
   "source": [
    "— What if we don’t know which data type to use?\n",
    "\n",
    "Sometimes we don’t know the data type or it can be of any type."
   ]
  },
  {
   "cell_type": "code",
   "execution_count": 5,
   "metadata": {},
   "outputs": [],
   "source": [
    "people = [] # a empty list with that can be of any type"
   ]
  },
  {
   "cell_type": "markdown",
   "metadata": {},
   "source": [
    "Another way of doing this is by using the builtin TypeVar from the typing library:"
   ]
  },
  {
   "cell_type": "code",
   "execution_count": 6,
   "metadata": {},
   "outputs": [],
   "source": [
    "from typing import TypeVar\n",
    "\n",
    "T = TypeVar('T') # this meas T can be of any type\n",
    "\n",
    "people: list[T] = [] # a empty list with that can be of any type"
   ]
  },
  {
   "cell_type": "markdown",
   "metadata": {},
   "source": [
    "TypeVar allows us to\n",
    "\n",
    "— Why TypeVar?\n",
    "\n",
    "If you’re familiar with other programming languages like Java, you’ve probably seen something like this:"
   ]
  },
  {
   "cell_type": "code",
   "execution_count": null,
   "metadata": {},
   "outputs": [],
   "source": [
    "# /**\n",
    "#  * Generic version of the Dictionary class.\n",
    "#  * @param <K> the key of the value for our dictionary\n",
    "#  * @param <T> the type of the our dictionary\n",
    "#  */\n",
    "# public class Dictionary<K, T> { /* ... */ }"
   ]
  },
  {
   "cell_type": "markdown",
   "metadata": {},
   "source": [
    "In Java, as you can see we can create a representation of a generic type — T and K — without the need to explicitly define them.\n",
    "\n",
    "The same was not possible in Python. Not since Python3.12.\n",
    "\n",
    "Before Python3.12, if we wanted to define a generic type we had to explicitly create the type so it could be recognized inside our namespace."
   ]
  },
  {
   "cell_type": "code",
   "execution_count": 8,
   "metadata": {},
   "outputs": [],
   "source": [
    "from typing import TypeVar\n",
    "\n",
    "T = TypeVar('T')\n",
    "K = TypeVar('K')\n",
    "\n",
    "class Dictionary():\n",
    "    def __init__(self, key: K, value: T):\n",
    "        pass"
   ]
  },
  {
   "cell_type": "markdown",
   "metadata": {},
   "source": [
    "A generic type can also be bound or constrained to a certain data type if we wish:"
   ]
  },
  {
   "cell_type": "code",
   "execution_count": 9,
   "metadata": {},
   "outputs": [],
   "source": [
    "from typing import TypeVar\n",
    "\n",
    "T = TypeVar('T', bound=str) # any str or subtype of str object\n",
    "K = TypeVar('K', str, int) # have to be a str or int"
   ]
  },
  {
   "cell_type": "markdown",
   "metadata": {},
   "source": [
    "With Python3.12, now we don’t have to explicitly declare the TypeVar in our namespace — module —, we can take the same approach as we saw in the Java example:"
   ]
  },
  {
   "cell_type": "code",
   "execution_count": 10,
   "metadata": {},
   "outputs": [],
   "source": [
    "class Dictionary[T, K]: # the new way of creating generic\n",
    "    def __init__(self, key: K, value: T):\n",
    "        pass"
   ]
  },
  {
   "cell_type": "markdown",
   "metadata": {},
   "source": [
    "We declare our generics after the class name adding a list with our expected parameters — generics.\n",
    "\n",
    "This introduction brings lots of flexibility and freedom in how we create and handle generic types.\n",
    "\n",
    "The same thing we did in a class, can be done with a function:"
   ]
  },
  {
   "cell_type": "code",
   "execution_count": null,
   "metadata": {},
   "outputs": [],
   "source": []
  }
 ],
 "metadata": {
  "kernelspec": {
   "display_name": ".venv",
   "language": "python",
   "name": "python3"
  },
  "language_info": {
   "codemirror_mode": {
    "name": "ipython",
    "version": 3
   },
   "file_extension": ".py",
   "mimetype": "text/x-python",
   "name": "python",
   "nbconvert_exporter": "python",
   "pygments_lexer": "ipython3",
   "version": "3.12.2"
  }
 },
 "nbformat": 4,
 "nbformat_minor": 2
}
