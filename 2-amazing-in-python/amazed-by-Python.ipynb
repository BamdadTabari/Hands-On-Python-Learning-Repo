{
 "cells": [
  {
   "cell_type": "markdown",
   "metadata": {},
   "source": [
    "# What You Need to Know About Python\n",
    "\n",
    " Typing"
   ]
  },
  {
   "cell_type": "markdown",
   "metadata": {},
   "source": [
    "## 1- Python typing library "
   ]
  },
  {
   "cell_type": "code",
   "execution_count": 4,
   "metadata": {},
   "outputs": [
    {
     "name": "stdout",
     "output_type": "stream",
     "text": [
      "akbar\n"
     ]
    },
    {
     "data": {
      "text/plain": [
       "str"
      ]
     },
     "execution_count": 4,
     "metadata": {},
     "output_type": "execute_result"
    }
   ],
   "source": [
    "name: str = 'akbar' # explicitly typing my variable\n",
    "print(name)\n",
    "type(name)"
   ]
  },
  {
   "cell_type": "code",
   "execution_count": 5,
   "metadata": {},
   "outputs": [
    {
     "name": "stdout",
     "output_type": "stream",
     "text": [
      "2\n"
     ]
    },
    {
     "data": {
      "text/plain": [
       "int"
      ]
     },
     "execution_count": 5,
     "metadata": {},
     "output_type": "execute_result"
    }
   ],
   "source": [
    "# ***** BUT *****\n",
    "name: str = 2 # explicitly typing my variable\n",
    "print(name)\n",
    "type(name)"
   ]
  },
  {
   "cell_type": "code",
   "execution_count": 10,
   "metadata": {},
   "outputs": [],
   "source": [
    "string: str"
   ]
  },
  {
   "cell_type": "code",
   "execution_count": 11,
   "metadata": {},
   "outputs": [
    {
     "ename": "NameError",
     "evalue": "name 'string' is not defined",
     "output_type": "error",
     "traceback": [
      "\u001b[1;31m---------------------------------------------------------------------------\u001b[0m",
      "\u001b[1;31mNameError\u001b[0m                                 Traceback (most recent call last)",
      "Cell \u001b[1;32mIn[11], line 1\u001b[0m\n\u001b[1;32m----> 1\u001b[0m \u001b[38;5;28mtype\u001b[39m(\u001b[43mstring\u001b[49m)\n",
      "\u001b[1;31mNameError\u001b[0m: name 'string' is not defined"
     ]
    }
   ],
   "source": [
    "type(string) # => error, what the fuck?"
   ]
  },
  {
   "cell_type": "markdown",
   "metadata": {},
   "source": [
    "## defining the parameter type and the return type of our function"
   ]
  },
  {
   "cell_type": "code",
   "execution_count": 12,
   "metadata": {},
   "outputs": [],
   "source": [
    "# defining the parameter type and the return type of our function\n",
    "def say_hello(name: str) -> None:\n",
    "    print(f\"Hello, {name}\")"
   ]
  },
  {
   "cell_type": "code",
   "execution_count": 14,
   "metadata": {},
   "outputs": [
    {
     "name": "stdout",
     "output_type": "stream",
     "text": [
      "Hello, 2\n"
     ]
    }
   ],
   "source": [
    "say_hello(2) # => Hello, 2  => still working :|"
   ]
  },
  {
   "cell_type": "code",
   "execution_count": 1,
   "metadata": {},
   "outputs": [],
   "source": [
    "def funct_a(name: str, age): # report error. function partially annotated ❌\n",
    "    ...\n",
    "\n",
    "def funct_b(name, age): # report error. function not annotated ❌\n",
    "    ..."
   ]
  },
  {
   "cell_type": "code",
   "execution_count": 2,
   "metadata": {},
   "outputs": [],
   "source": [
    "def funct_a(name: str, age): # report error. function partially annotated ❌\n",
    "    ...\n",
    "\n",
    "def funct_b(name, age): # no error. ✅\n",
    "    ..."
   ]
  },
  {
   "cell_type": "markdown",
   "metadata": {},
   "source": [
    "# Generic types in Python’s typing\n",
    "\n",
    "In Computer Science we define data types as generic when we don’t know beforehand which type we’re dealing with.\n",
    "\n",
    "The type will be inferred later."
   ]
  },
  {
   "cell_type": "code",
   "execution_count": 3,
   "metadata": {},
   "outputs": [],
   "source": [
    "from dataclasses import dataclass\n",
    "\n",
    "\n",
    "@dataclass\n",
    "class Person:\n",
    "    name: str\n",
    "    age: int\n",
    "\n",
    "\n",
    "people: list[Person] = [] # a "
   ]
  },
  {
   "cell_type": "markdown",
   "metadata": {},
   "source": [
    "In our example above, we create a variable people that is a list. A list is a generic type since it can contain any data type we want.\n",
    "\n",
    "In this case, we explicitly specified that our generic type, list, will be a list of Person. So when we iterate over our list, the type of each item will be inferred as Person:"
   ]
  },
  {
   "cell_type": "code",
   "execution_count": 4,
   "metadata": {},
   "outputs": [],
   "source": [
    "# people: list[Person] = [] from example above\n",
    "\n",
    "\n",
    "# person variable type will be Person\n",
    "for person in people:\n",
    "    print(f\"Name - {person.name}, Age - {person.age}\")"
   ]
  },
  {
   "cell_type": "markdown",
   "metadata": {},
   "source": [
    "— What if we don’t know which data type to use?\n",
    "\n",
    "Sometimes we don’t know the data type or it can be of any type."
   ]
  },
  {
   "cell_type": "code",
   "execution_count": 5,
   "metadata": {},
   "outputs": [],
   "source": [
    "people = [] # a empty list with that can be of any type"
   ]
  },
  {
   "cell_type": "markdown",
   "metadata": {},
   "source": [
    "Another way of doing this is by using the builtin TypeVar from the typing library:"
   ]
  },
  {
   "cell_type": "code",
   "execution_count": 6,
   "metadata": {},
   "outputs": [],
   "source": [
    "from typing import TypeVar\n",
    "\n",
    "T = TypeVar('T') # this meas T can be of any type\n",
    "\n",
    "people: list[T] = [] # a empty list with that can be of any type"
   ]
  },
  {
   "cell_type": "markdown",
   "metadata": {},
   "source": [
    "TypeVar allows us to\n",
    "\n",
    "— Why TypeVar?\n",
    "\n",
    "If you’re familiar with other programming languages like Java, you’ve probably seen something like this:"
   ]
  },
  {
   "cell_type": "code",
   "execution_count": null,
   "metadata": {},
   "outputs": [],
   "source": [
    "# /**\n",
    "#  * Generic version of the Dictionary class.\n",
    "#  * @param <K> the key of the value for our dictionary\n",
    "#  * @param <T> the type of the our dictionary\n",
    "#  */\n",
    "# public class Dictionary<K, T> { /* ... */ }"
   ]
  },
  {
   "cell_type": "markdown",
   "metadata": {},
   "source": [
    "In Java, as you can see we can create a representation of a generic type — T and K — without the need to explicitly define them.\n",
    "\n",
    "The same was not possible in Python. Not since Python3.12.\n",
    "\n",
    "Before Python3.12, if we wanted to define a generic type we had to explicitly create the type so it could be recognized inside our namespace."
   ]
  },
  {
   "cell_type": "code",
   "execution_count": 8,
   "metadata": {},
   "outputs": [],
   "source": [
    "from typing import TypeVar\n",
    "\n",
    "T = TypeVar('T')\n",
    "K = TypeVar('K')\n",
    "\n",
    "class Dictionary():\n",
    "    def __init__(self, key: K, value: T):\n",
    "        pass"
   ]
  },
  {
   "cell_type": "markdown",
   "metadata": {},
   "source": [
    "A generic type can also be bound or constrained to a certain data type if we wish:"
   ]
  },
  {
   "cell_type": "code",
   "execution_count": 9,
   "metadata": {},
   "outputs": [],
   "source": [
    "from typing import TypeVar\n",
    "\n",
    "T = TypeVar('T', bound=str) # any str or subtype of str object\n",
    "K = TypeVar('K', str, int) # have to be a str or int"
   ]
  },
  {
   "cell_type": "markdown",
   "metadata": {},
   "source": [
    "With Python3.12, now we don’t have to explicitly declare the TypeVar in our namespace — module —, we can take the same approach as we saw in the Java example:"
   ]
  },
  {
   "cell_type": "code",
   "execution_count": 10,
   "metadata": {},
   "outputs": [],
   "source": [
    "class Dictionary[T, K]: # the new way of creating generic\n",
    "    def __init__(self, key: K, value: T):\n",
    "        pass"
   ]
  },
  {
   "cell_type": "markdown",
   "metadata": {},
   "source": [
    "We declare our generics after the class name adding a list with our expected parameters — generics.\n",
    "\n",
    "This introduction brings lots of flexibility and freedom in how we create and handle generic types.\n",
    "\n",
    "The same thing we did in a class, can be done with a function:"
   ]
  },
  {
   "cell_type": "code",
   "execution_count": 11,
   "metadata": {},
   "outputs": [],
   "source": [
    "def get_value[K, T](key: K) -> T:\n",
    "    pass"
   ]
  },
  {
   "cell_type": "markdown",
   "metadata": {},
   "source": [
    "Here we define a function that receives a key that can be of any type and returns a generic type as response — T.\n",
    "\n",
    "If we want to create a bound or define a type, we can easily do that as well:"
   ]
  },
  {
   "cell_type": "code",
   "execution_count": 12,
   "metadata": {},
   "outputs": [],
   "source": [
    "def get_value[K: (str, int), T: str](key: K) -> T:\n",
    "    pass"
   ]
  },
  {
   "cell_type": "markdown",
   "metadata": {},
   "source": [
    "With this, we are saying that our key — K, has to be of type str or int and our generic T can be of any kind of str or subtype of str object.\n",
    "\n",
    "Now let’s jump into my favorite part — The type statement."
   ]
  },
  {
   "cell_type": "markdown",
   "metadata": {},
   "source": [
    "# The type statement\n",
    "If you want to define a new type in Python, let’s say a Dictionary like in our previous example, one of the ways to do it is by using a TypeAlias.\n",
    "\n",
    "A TypeAlias is a type used to create aliases that serve as a ‘nickname’ to a fixed type that you create."
   ]
  },
  {
   "cell_type": "code",
   "execution_count": 13,
   "metadata": {},
   "outputs": [],
   "source": [
    "from typing import TypeAlias\n",
    "\n",
    "Dictionary: TypeAlias = dict[str | int, str] # new type alias"
   ]
  },
  {
   "cell_type": "code",
   "execution_count": 14,
   "metadata": {},
   "outputs": [
    {
     "data": {
      "text/plain": [
       "types.GenericAlias"
      ]
     },
     "execution_count": 14,
     "metadata": {},
     "output_type": "execute_result"
    }
   ],
   "source": [
    "type(Dictionary)"
   ]
  },
  {
   "cell_type": "markdown",
   "metadata": {},
   "source": [
    "Without the TypeAlias Python would consider our line as a variable assignment.\n",
    "\n",
    "With TypeAlias, we have a new type that we can use to define our variables:"
   ]
  },
  {
   "cell_type": "code",
   "execution_count": 15,
   "metadata": {},
   "outputs": [],
   "source": [
    "items = [\"a\",1,2]\n",
    "\n",
    "def new_item(item: Dictionary) -> list[Dictionary]:\n",
    "    return items.append(item)"
   ]
  },
  {
   "cell_type": "code",
   "execution_count": 16,
   "metadata": {},
   "outputs": [
    {
     "data": {
      "text/plain": [
       "['a', 1, 2]"
      ]
     },
     "execution_count": 16,
     "metadata": {},
     "output_type": "execute_result"
    }
   ],
   "source": [
    "items"
   ]
  },
  {
   "cell_type": "markdown",
   "metadata": {},
   "source": [
    "So what does this have to do with the type statement you might ask?\n",
    "\n",
    "Well, TypeAlias is deprecated in Python3.12. It’s not removed, but it's not encouraged either.\n",
    "\n",
    "Introduced in Python3.12, we now have the type statement.\n",
    "\n",
    "The type statement makes it cleaner and easier to spot a new type when is created.\n",
    "\n",
    "The goal with this is to make it similar to how we create a new class using the class keyword or a function with the def keyword."
   ]
  },
  {
   "cell_type": "code",
   "execution_count": 17,
   "metadata": {},
   "outputs": [],
   "source": [
    "type Dictionary = dict[str | int, str] # new type alias"
   ]
  },
  {
   "cell_type": "code",
   "execution_count": 19,
   "metadata": {},
   "outputs": [],
   "source": [
    "type stringlist = list[str]"
   ]
  },
  {
   "cell_type": "code",
   "execution_count": 20,
   "metadata": {},
   "outputs": [
    {
     "ename": "AttributeError",
     "evalue": "'typing.TypeAliasType' object has no attribute 'append'",
     "output_type": "error",
     "traceback": [
      "\u001b[1;31m---------------------------------------------------------------------------\u001b[0m",
      "\u001b[1;31mAttributeError\u001b[0m                            Traceback (most recent call last)",
      "Cell \u001b[1;32mIn[20], line 1\u001b[0m\n\u001b[1;32m----> 1\u001b[0m \u001b[43mstringlist\u001b[49m\u001b[38;5;241;43m.\u001b[39;49m\u001b[43mappend\u001b[49m(\u001b[38;5;241m2\u001b[39m)\n",
      "\u001b[1;31mAttributeError\u001b[0m: 'typing.TypeAliasType' object has no attribute 'append'"
     ]
    }
   ],
   "source": [
    "stringlist.append(2)"
   ]
  },
  {
   "cell_type": "markdown",
   "metadata": {},
   "source": [
    "Much better, if you ask me.\n",
    "\n",
    "We can use a combination of generic types when creating our type alias and do all sorts of things. We’re only limited by our imagination and needs, of course."
   ]
  },
  {
   "cell_type": "code",
   "execution_count": 22,
   "metadata": {},
   "outputs": [],
   "source": [
    "type Dictionary = dict[K, T] # new type alias"
   ]
  },
  {
   "cell_type": "markdown",
   "metadata": {},
   "source": [
    "## Let’s make a final test with everything we saw so far and see if nothing breaks:"
   ]
  },
  {
   "cell_type": "code",
   "execution_count": 23,
   "metadata": {},
   "outputs": [
    {
     "name": "stdout",
     "output_type": "stream",
     "text": [
      "[{'name': 'Yanick'}, {1: 1}]\n"
     ]
    }
   ],
   "source": [
    "type Dictionary = dict[K, T] # new type alias with generic types\n",
    "\n",
    "\n",
    "items = []\n",
    "\n",
    "def new_item(item: Dictionary) -> list[Dictionary]:\n",
    "    global items # access the global variable and append item to it\n",
    "    items.append(item)\n",
    "\n",
    "new_item({'name': 'Yanick'})\n",
    "new_item({1: 1})\n",
    "\n",
    "print(items)\n",
    "# the output should be - [{'name': 'Yanick'}, {1: 1}]"
   ]
  },
  {
   "cell_type": "code",
   "execution_count": null,
   "metadata": {},
   "outputs": [],
   "source": []
  }
 ],
 "metadata": {
  "kernelspec": {
   "display_name": ".venv",
   "language": "python",
   "name": "python3"
  },
  "language_info": {
   "codemirror_mode": {
    "name": "ipython",
    "version": 3
   },
   "file_extension": ".py",
   "mimetype": "text/x-python",
   "name": "python",
   "nbconvert_exporter": "python",
   "pygments_lexer": "ipython3",
   "version": "3.12.2"
  }
 },
 "nbformat": 4,
 "nbformat_minor": 2
}
