{
 "cells": [
  {
   "cell_type": "markdown",
   "metadata": {},
   "source": [
    "# RE | re\n"
   ]
  },
  {
   "cell_type": "markdown",
   "metadata": {},
   "source": [
    "# Patterns: Special Characters"
   ]
  },
  {
   "cell_type": "markdown",
   "metadata": {},
   "source": [
    "Many descriptions of regular expressions start with all the details of how to define\n",
    "them. I think that’s a mistake. Regular expressions are a not-so-little language in their\n",
    "own right, with too many details to fit in your head at once. They use so much punctuation that they look like cartoon characters swearing.\n",
    "With these expressions (match(), search(), findall(), and sub()) under your belt,\n",
    "let’s get into the details of building them. The patterns you make apply to any of these\n",
    "functions.\n",
    "You’ve seen the basics:\n",
    "\n",
    "• Literal matches with any nonspecial characters \n",
    "\n",
    "• Any single character except \\n with .\n",
    "\n",
    "• Any number of the preceding character (including zero) with *\n",
    "\n",
    "• Optional (zero or one) of the preceding character with ?"
   ]
  },
  {
   "cell_type": "markdown",
   "metadata": {},
   "source": [
    "## First, special characters are shown in Table 12-2.\n",
    "\n",
    "## Table 12-2. Special characters"
   ]
  },
  {
   "cell_type": "markdown",
   "metadata": {},
   "source": [
    "Pattern     Matches\n",
    "\n",
    "\\d      A single digit\n",
    "\n",
    "\\D      A single nondigit\n",
    "\n",
    "\\w      An alphanumeric character\n",
    "\n",
    "\\W      A non-alphanumeric character \n",
    "\n",
    "\\s      A whitespace character\n",
    "\n",
    "\\S      A nonwhitespace character\n",
    "\n",
    "\\b      A word boundary (between a \\w and a \\W, in either order)\n",
    "\n",
    "\\B      A nonword boundary"
   ]
  },
  {
   "cell_type": "markdown",
   "metadata": {},
   "source": [
    "-------------------------------------------\n",
    "\n",
    "The Python string module has predefined string constants that we can use for testing.\n",
    "\n",
    "Let’s use printable, which contains 100 printable ASCII characters, including\n",
    "letters in both cases, digits, space characters, and punctuation:"
   ]
  },
  {
   "cell_type": "code",
   "execution_count": 1,
   "metadata": {},
   "outputs": [
    {
     "name": "stdout",
     "output_type": "stream",
     "text": [
      "100\n",
      "0123456789abcdefghijklmnopqrstuvwxyzABCDEFGHIJKLMNOPQRSTUVWXYZ!\"#$%&'()*+,-./:;<=>?@[\\]^_`{|}~ \t\n",
      "\u000b\f\n",
      "0123456789abcdefghijklmnopqrstuvwxyzABCDEFGHIJKLMN\n",
      "OPQRSTUVWXYZ!\"#$%&'()*+,-./:;<=>?@[\\]^_`{|}~ \t\n",
      "\u000b\f\n"
     ]
    },
    {
     "data": {
      "text/plain": [
       "'OPQRSTUVWXYZ!\"#$%&\\'()*+,-./:;<=>?@[\\\\]^_`{|}~ \\t\\n\\r\\x0b\\x0c'"
      ]
     },
     "execution_count": 1,
     "metadata": {},
     "output_type": "execute_result"
    }
   ],
   "source": [
    "import string\n",
    "printable = string.printable\n",
    "print(len(printable))\n",
    "\n",
    "print(printable)\n",
    "# result:\n",
    "'0123456789abcdefghijklmnopqrstuvwxyzABCDEFGHIJKLMNOPQRSTUVWXYZ!\"#$%&\\'()*+,-./:;<=>?@[\\\\]^_`{|}~ \\t\\n\\r\\x0b\\x0c'\n",
    "\n",
    "print(printable[0:50])\n",
    "# result:\n",
    "'0123456789abcdefghijklmnopqrstuvwxyzABCDEFGHIJKLMN'\n",
    "\n",
    "print(printable[50:])\n",
    "# result:\n",
    "'OPQRSTUVWXYZ!\"#$%&\\'()*+,-./:;<=>?@[\\\\]^_`{|}~ \\t\\n\\r\\x0b\\x0c'\n"
   ]
  },
  {
   "cell_type": "code",
   "execution_count": null,
   "metadata": {},
   "outputs": [],
   "source": []
  }
 ],
 "metadata": {
  "kernelspec": {
   "display_name": ".venv",
   "language": "python",
   "name": "python3"
  },
  "language_info": {
   "codemirror_mode": {
    "name": "ipython",
    "version": 3
   },
   "file_extension": ".py",
   "mimetype": "text/x-python",
   "name": "python",
   "nbconvert_exporter": "python",
   "pygments_lexer": "ipython3",
   "version": "3.12.2"
  }
 },
 "nbformat": 4,
 "nbformat_minor": 2
}
