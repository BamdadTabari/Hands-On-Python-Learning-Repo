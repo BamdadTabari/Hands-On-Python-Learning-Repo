{
 "cells": [
  {
   "cell_type": "markdown",
   "metadata": {},
   "source": [
    "# RE | re\n"
   ]
  },
  {
   "cell_type": "markdown",
   "metadata": {},
   "source": [
    "# Patterns: Special Characters"
   ]
  },
  {
   "cell_type": "markdown",
   "metadata": {},
   "source": [
    "Many descriptions of regular expressions start with all the details of how to define\n",
    "them. I think that’s a mistake. Regular expressions are a not-so-little language in their\n",
    "own right, with too many details to fit in your head at once. They use so much punctuation that they look like cartoon characters swearing.\n",
    "With these expressions (match(), search(), findall(), and sub()) under your belt,\n",
    "let’s get into the details of building them. The patterns you make apply to any of these\n",
    "functions.\n",
    "You’ve seen the basics:\n",
    "\n",
    "• Literal matches with any nonspecial characters \n",
    "\n",
    "• Any single character except \\n with .\n",
    "\n",
    "• Any number of the preceding character (including zero) with *\n",
    "\n",
    "• Optional (zero or one) of the preceding character with ?"
   ]
  },
  {
   "cell_type": "markdown",
   "metadata": {},
   "source": [
    "## First, special characters are shown in Table 12-2.\n",
    "\n",
    "## Table 12-2. Special characters"
   ]
  },
  {
   "cell_type": "markdown",
   "metadata": {},
   "source": [
    "Pattern     Matches\n",
    "\n",
    "\\d      A single digit  => equivalent to [0-9]\n",
    "\n",
    "\\D      A single nondigit\n",
    "\n",
    "\\w      An alphanumeric character  => equivalent to [a-zA-Z0-9_]\n",
    "\n",
    "\\W      A non-alphanumeric character \n",
    "\n",
    "\\s      A whitespace character\n",
    "\n",
    "\\S      A nonwhitespace character\n",
    "\n",
    "\\b      A word boundary (between a \\w and a \\W, in either order)\n",
    "\n",
    "\\B      A nonword boundary"
   ]
  },
  {
   "cell_type": "markdown",
   "metadata": {},
   "source": [
    "-------------------------------------------\n",
    "\n",
    "The Python string module has predefined string constants that we can use for testing.\n",
    "\n",
    "Let’s use printable, which contains 100 printable ASCII characters, including\n",
    "letters in both cases, digits, space characters, and punctuation:"
   ]
  },
  {
   "cell_type": "code",
   "execution_count": 7,
   "metadata": {},
   "outputs": [
    {
     "name": "stdout",
     "output_type": "stream",
     "text": [
      "100\n",
      "0123456789abcdefghijklmnopqrstuvwxyzABCDEFGHIJKLMNOPQRSTUVWXYZ!\"#$%&'()*+,-./:;<=>?@[\\]^_`{|}~ \t\n",
      "\u000b\f\n",
      "0123456789abcdefghijklmnopqrstuvwxyzABCDEFGHIJKLMN\n",
      "OPQRSTUVWXYZ!\"#$%&'()*+,-./:;<=>?@[\\]^_`{|}~ \t\n",
      "\u000b\f\n"
     ]
    },
    {
     "data": {
      "text/plain": [
       "'OPQRSTUVWXYZ!\"#$%&\\'()*+,-./:;<=>?@[\\\\]^_`{|}~ \\t\\n\\r\\x0b\\x0c'"
      ]
     },
     "execution_count": 7,
     "metadata": {},
     "output_type": "execute_result"
    }
   ],
   "source": [
    "import string\n",
    "import re\n",
    "printable = string.printable\n",
    "print(len(printable))\n",
    "\n",
    "print(printable)\n",
    "# result:\n",
    "'0123456789abcdefghijklmnopqrstuvwxyzABCDEFGHIJKLMNOPQRSTUVWXYZ!\"#$%&\\'()*+,-./:;<=>?@[\\\\]^_`{|}~ \\t\\n\\r\\x0b\\x0c'\n",
    "\n",
    "print(printable[0:50])\n",
    "# result:\n",
    "'0123456789abcdefghijklmnopqrstuvwxyzABCDEFGHIJKLMN'\n",
    "\n",
    "print(printable[50:])\n",
    "# result:\n",
    "'OPQRSTUVWXYZ!\"#$%&\\'()*+,-./:;<=>?@[\\\\]^_`{|}~ \\t\\n\\r\\x0b\\x0c'\n"
   ]
  },
  {
   "cell_type": "code",
   "execution_count": 8,
   "metadata": {},
   "outputs": [
    {
     "name": "stdout",
     "output_type": "stream",
     "text": [
      "abcdefghijklmnopqrstuvwxyzABCDEFGHIJKLMNOPQRSTUVWXYZ\n",
      "0123456789abcdefABCDEF\n",
      "01234567\n",
      "!\"#$%&'()*+,-./:;<=>?@[\\]^_`{|}~\n",
      " \t\n",
      "\u000b\f\n"
     ]
    }
   ],
   "source": [
    "print(string.ascii_letters)\n",
    "# print(string.capwords())\n",
    "print(string.hexdigits)\n",
    "print(string.octdigits)\n",
    "print(string.punctuation)\n",
    "print(string.whitespace)"
   ]
  },
  {
   "cell_type": "markdown",
   "metadata": {},
   "source": [
    "# Which characters in printable are digits?"
   ]
  },
  {
   "cell_type": "code",
   "execution_count": 9,
   "metadata": {},
   "outputs": [
    {
     "name": "stderr",
     "output_type": "stream",
     "text": [
      "<>:2: SyntaxWarning: invalid escape sequence '\\d'\n",
      "<>:2: SyntaxWarning: invalid escape sequence '\\d'\n",
      "C:\\Users\\illegible\\AppData\\Local\\Temp\\ipykernel_6368\\1961241520.py:2: SyntaxWarning: invalid escape sequence '\\d'\n",
      "  re.findall('\\d', printable)\n"
     ]
    },
    {
     "data": {
      "text/plain": [
       "['0', '1', '2', '3', '4', '5', '6', '7', '8', '9']"
      ]
     },
     "execution_count": 9,
     "metadata": {},
     "output_type": "execute_result"
    }
   ],
   "source": [
    "import re\n",
    "re.findall('\\d', printable)"
   ]
  },
  {
   "cell_type": "code",
   "execution_count": 17,
   "metadata": {},
   "outputs": [
    {
     "data": {
      "text/plain": [
       "['0123456789']"
      ]
     },
     "execution_count": 17,
     "metadata": {},
     "output_type": "execute_result"
    }
   ],
   "source": [
    "import re\n",
    "re.findall(r'\\d+', printable)"
   ]
  },
  {
   "cell_type": "code",
   "execution_count": 18,
   "metadata": {},
   "outputs": [
    {
     "data": {
      "text/plain": [
       "['0', '1', '2', '3', '4', '5', '6', '7', '8', '9']"
      ]
     },
     "execution_count": 18,
     "metadata": {},
     "output_type": "execute_result"
    }
   ],
   "source": [
    "import re\n",
    "re.findall(r'\\d', printable)"
   ]
  },
  {
   "cell_type": "markdown",
   "metadata": {},
   "source": [
    "# Which characters are digits, letters, or an underscore?"
   ]
  },
  {
   "cell_type": "code",
   "execution_count": 10,
   "metadata": {},
   "outputs": [
    {
     "name": "stderr",
     "output_type": "stream",
     "text": [
      "<>:1: SyntaxWarning: invalid escape sequence '\\w'\n",
      "<>:1: SyntaxWarning: invalid escape sequence '\\w'\n",
      "C:\\Users\\illegible\\AppData\\Local\\Temp\\ipykernel_6368\\1077115770.py:1: SyntaxWarning: invalid escape sequence '\\w'\n",
      "  re.findall('\\w', printable)\n"
     ]
    },
    {
     "data": {
      "text/plain": [
       "['0',\n",
       " '1',\n",
       " '2',\n",
       " '3',\n",
       " '4',\n",
       " '5',\n",
       " '6',\n",
       " '7',\n",
       " '8',\n",
       " '9',\n",
       " 'a',\n",
       " 'b',\n",
       " 'c',\n",
       " 'd',\n",
       " 'e',\n",
       " 'f',\n",
       " 'g',\n",
       " 'h',\n",
       " 'i',\n",
       " 'j',\n",
       " 'k',\n",
       " 'l',\n",
       " 'm',\n",
       " 'n',\n",
       " 'o',\n",
       " 'p',\n",
       " 'q',\n",
       " 'r',\n",
       " 's',\n",
       " 't',\n",
       " 'u',\n",
       " 'v',\n",
       " 'w',\n",
       " 'x',\n",
       " 'y',\n",
       " 'z',\n",
       " 'A',\n",
       " 'B',\n",
       " 'C',\n",
       " 'D',\n",
       " 'E',\n",
       " 'F',\n",
       " 'G',\n",
       " 'H',\n",
       " 'I',\n",
       " 'J',\n",
       " 'K',\n",
       " 'L',\n",
       " 'M',\n",
       " 'N',\n",
       " 'O',\n",
       " 'P',\n",
       " 'Q',\n",
       " 'R',\n",
       " 'S',\n",
       " 'T',\n",
       " 'U',\n",
       " 'V',\n",
       " 'W',\n",
       " 'X',\n",
       " 'Y',\n",
       " 'Z',\n",
       " '_']"
      ]
     },
     "execution_count": 10,
     "metadata": {},
     "output_type": "execute_result"
    }
   ],
   "source": [
    "re.findall('\\w', printable)"
   ]
  },
  {
   "cell_type": "markdown",
   "metadata": {},
   "source": [
    "# syntax warning ?!\n",
    "\n",
    "<>:1: SyntaxWarning: invalid escape sequence '\\w'\n",
    "<>:1: SyntaxWarning: invalid escape sequence '\\w'\n",
    "C:\\Users\\illegible\\AppData\\Local\\Temp\\ipykernel_6368\\1077115770.py:1: SyntaxWarning: invalid escape sequence '\\w'\n",
    "  re.findall('\\w', printable)\n",
    "\n",
    "\n",
    "The error messages you're seeing indicate that Python is interpreting \\w as an escape sequence but doesn't recognize it as a valid one. In regular expressions (regex), \\w is a special character that matches any word character (equivalent to [a-zA-Z0-9_]). However, outside of regex syntax, Python does not understand \\w as a shorthand for word characters.\n",
    "\n",
    "To fix this issue, ensure that you're using re.findall() correctly within a string that is passed as an argument. If you're trying to find all occurrences of word characters in a string named printable, you should use a raw string for the pattern to avoid Python interpreting backslashes as escape sequences. Here's how you can do it:"
   ]
  },
  {
   "cell_type": "code",
   "execution_count": 11,
   "metadata": {},
   "outputs": [
    {
     "name": "stdout",
     "output_type": "stream",
     "text": [
      "['0123456789abcdefghijklmnopqrstuvwxyzABCDEFGHIJKLMNOPQRSTUVWXYZ', '_']\n"
     ]
    }
   ],
   "source": [
    "import re\n",
    "\n",
    "# Assuming 'printable' is defined somewhere above\n",
    "pattern = r'\\w+'  # Raw string for the regex pattern\n",
    "matches = re.findall(pattern, printable)\n",
    "\n",
    "print(matches)"
   ]
  },
  {
   "cell_type": "code",
   "execution_count": 19,
   "metadata": {},
   "outputs": [
    {
     "name": "stdout",
     "output_type": "stream",
     "text": [
      "['0', '1', '2', '3', '4', '5', '6', '7', '8', '9', 'a', 'b', 'c', 'd', 'e', 'f', 'g', 'h', 'i', 'j', 'k', 'l', 'm', 'n', 'o', 'p', 'q', 'r', 's', 't', 'u', 'v', 'w', 'x', 'y', 'z', 'A', 'B', 'C', 'D', 'E', 'F', 'G', 'H', 'I', 'J', 'K', 'L', 'M', 'N', 'O', 'P', 'Q', 'R', 'S', 'T', 'U', 'V', 'W', 'X', 'Y', 'Z', '_']\n"
     ]
    }
   ],
   "source": [
    "import re\n",
    "\n",
    "# Assuming 'printable' is defined somewhere above\n",
    "pattern = r'\\w'  # Raw string for the regex pattern\n",
    "matches = re.findall(pattern, printable)\n",
    "\n",
    "print(matches)"
   ]
  },
  {
   "cell_type": "markdown",
   "metadata": {},
   "source": [
    "In this corrected version, r'\\w+' is used instead of '\\w'. The r before the string indicates a raw string, which tells Python to treat backslashes as literal characters rather than escape characters. This way, \\w is correctly interpreted as part of the regex syntax, matching word characters."
   ]
  },
  {
   "cell_type": "markdown",
   "metadata": {},
   "source": [
    "#  * A little BREAK *"
   ]
  },
  {
   "cell_type": "markdown",
   "metadata": {},
   "source": [
    "#  RAW STRING?\n",
    "\n",
    "###  what is Raw string in python?"
   ]
  },
  {
   "cell_type": "markdown",
   "metadata": {},
   "source": [
    "A raw string in Python is a string prefixed with an `r` or `R`, which tells Python to interpret the string literally, without processing any escape sequences contained within it. Escape sequences are special character combinations that start with a backslash (`\\`) and have a specific meaning, such as `\\n` for a newline, `\\t` for a tab, etc. When you use a raw string, Python treats the backslash as a normal character, not as the beginning of an escape sequence.\n",
    "\n",
    "Here's a simple example to illustrate the difference:\n",
    "\n",
    "```python\n",
    "# Without a raw string\n",
    "normal_string = \"This is a normal string\\nwith a newline.\"\n",
    "print(normal_string)  # Prints: This is a normal string\n",
    "                        #         with a newline.\n",
    "\n",
    "# With a raw string\n",
    "raw_string = r\"This is a raw string\\nwith a newline.\"\n",
    "print(raw_string)  # Prints: This is a raw string\\nwith a newline.\n",
    "```\n",
    "\n",
    "In the first example, because we didn't use a raw string, Python interprets `\\n` as a newline character, so when printed, the string appears on two lines. In the second example, because we used a raw string (`r` prefix), Python treats `\\n` as two separate characters: a backslash followed by an 'n'. Therefore, the entire string, including `\\n`, is printed on one line.\n",
    "\n",
    "Raw strings are particularly useful in regular expressions (regex) patterns where backslashes are commonly used. By using a raw string, you avoid having to double each backslash, making the pattern easier to read and write. For example:\n",
    "\n",
    "```python\n",
    "import re\n",
    "\n",
    "# Using a raw string for a regex pattern\n",
    "pattern = r\"\\d+\"  # Matches one or more digits\n",
    "\n",
    "# Without a raw string, you would need to escape the backslashes\n",
    "# pattern = \"\\\\d+\"\n",
    "```\n",
    "\n",
    "In summary, raw strings allow you to work with strings that contain many backslashes without Python interpreting them as escape sequences, simplifying the handling of certain types of data like file paths or regular expression patterns."
   ]
  },
  {
   "cell_type": "markdown",
   "metadata": {},
   "source": [
    "-------------------------------------------------------------------------"
   ]
  },
  {
   "cell_type": "markdown",
   "metadata": {},
   "source": [
    "# Which are spaces?\n"
   ]
  },
  {
   "cell_type": "code",
   "execution_count": 14,
   "metadata": {},
   "outputs": [
    {
     "name": "stderr",
     "output_type": "stream",
     "text": [
      "<>:1: SyntaxWarning: invalid escape sequence '\\s'\n",
      "<>:1: SyntaxWarning: invalid escape sequence '\\s'\n",
      "C:\\Users\\illegible\\AppData\\Local\\Temp\\ipykernel_6368\\3070173869.py:1: SyntaxWarning: invalid escape sequence '\\s'\n",
      "  re.findall('\\s', printable)\n"
     ]
    },
    {
     "data": {
      "text/plain": [
       "[' ', '\\t', '\\n', '\\r', '\\x0b', '\\x0c']"
      ]
     },
     "execution_count": 14,
     "metadata": {},
     "output_type": "execute_result"
    }
   ],
   "source": [
    "re.findall('\\s', printable)"
   ]
  },
  {
   "cell_type": "code",
   "execution_count": 15,
   "metadata": {},
   "outputs": [
    {
     "data": {
      "text/plain": [
       "[' ', '\\t', '\\n', '\\r', '\\x0b', '\\x0c']"
      ]
     },
     "execution_count": 15,
     "metadata": {},
     "output_type": "execute_result"
    }
   ],
   "source": [
    "re.findall(r'\\s', printable)    "
   ]
  },
  {
   "cell_type": "code",
   "execution_count": 20,
   "metadata": {},
   "outputs": [
    {
     "data": {
      "text/plain": [
       "[' \\t\\n\\r\\x0b\\x0c']"
      ]
     },
     "execution_count": 20,
     "metadata": {},
     "output_type": "execute_result"
    }
   ],
   "source": [
    "re.findall(r'\\s+', printable) "
   ]
  },
  {
   "cell_type": "code",
   "execution_count": 21,
   "metadata": {},
   "outputs": [
    {
     "data": {
      "text/plain": [
       "[]"
      ]
     },
     "execution_count": 21,
     "metadata": {},
     "output_type": "execute_result"
    }
   ],
   "source": [
    "re.findall(r'\\s-', printable) "
   ]
  },
  {
   "cell_type": "code",
   "execution_count": 23,
   "metadata": {},
   "outputs": [
    {
     "data": {
      "text/plain": [
       "[',-']"
      ]
     },
     "execution_count": 23,
     "metadata": {},
     "output_type": "execute_result"
    }
   ],
   "source": [
    "re.findall(r'\\S-', printable) "
   ]
  },
  {
   "cell_type": "code",
   "execution_count": 24,
   "metadata": {},
   "outputs": [
    {
     "data": {
      "text/plain": [
       "['0',\n",
       " '1',\n",
       " '2',\n",
       " '3',\n",
       " '4',\n",
       " '5',\n",
       " '6',\n",
       " '7',\n",
       " '8',\n",
       " '9',\n",
       " 'a',\n",
       " 'b',\n",
       " 'c',\n",
       " 'd',\n",
       " 'e',\n",
       " 'f',\n",
       " 'g',\n",
       " 'h',\n",
       " 'i',\n",
       " 'j',\n",
       " 'k',\n",
       " 'l',\n",
       " 'm',\n",
       " 'n',\n",
       " 'o',\n",
       " 'p',\n",
       " 'q',\n",
       " 'r',\n",
       " 's',\n",
       " 't',\n",
       " 'u',\n",
       " 'v',\n",
       " 'w',\n",
       " 'x',\n",
       " 'y',\n",
       " 'z',\n",
       " 'A',\n",
       " 'B',\n",
       " 'C',\n",
       " 'D',\n",
       " 'E',\n",
       " 'F',\n",
       " 'G',\n",
       " 'H',\n",
       " 'I',\n",
       " 'J',\n",
       " 'K',\n",
       " 'L',\n",
       " 'M',\n",
       " 'N',\n",
       " 'O',\n",
       " 'P',\n",
       " 'Q',\n",
       " 'R',\n",
       " 'S',\n",
       " 'T',\n",
       " 'U',\n",
       " 'V',\n",
       " 'W',\n",
       " 'X',\n",
       " 'Y',\n",
       " 'Z',\n",
       " '!',\n",
       " '\"',\n",
       " '#',\n",
       " '$',\n",
       " '%',\n",
       " '&',\n",
       " \"'\",\n",
       " '(',\n",
       " ')',\n",
       " '*',\n",
       " '+',\n",
       " ',',\n",
       " '-',\n",
       " '.',\n",
       " '/',\n",
       " ':',\n",
       " ';',\n",
       " '<',\n",
       " '=',\n",
       " '>',\n",
       " '?',\n",
       " '@',\n",
       " '[',\n",
       " '\\\\',\n",
       " ']',\n",
       " '^',\n",
       " '_',\n",
       " '`',\n",
       " '{',\n",
       " '|',\n",
       " '}',\n",
       " '~']"
      ]
     },
     "execution_count": 24,
     "metadata": {},
     "output_type": "execute_result"
    }
   ],
   "source": [
    "re.findall(r'\\S', printable) "
   ]
  },
  {
   "cell_type": "code",
   "execution_count": 25,
   "metadata": {},
   "outputs": [
    {
     "data": {
      "text/plain": [
       "['0123456789abcdefghijklmnopqrstuvwxyzABCDEFGHIJKLMNOPQRSTUVWXYZ!\"#$%&\\'()*+,-./:;<=>?@[\\\\]^_`{|}~']"
      ]
     },
     "execution_count": 25,
     "metadata": {},
     "output_type": "execute_result"
    }
   ],
   "source": [
    "re.findall(r'\\S+', printable) "
   ]
  },
  {
   "cell_type": "markdown",
   "metadata": {},
   "source": [
    "In order, those were: plain old space, tab, newline, carriage return, vertical tab, and\n",
    "form feed.\n",
    "Regular expressions are not confined to ASCII. A \\d will match whatever Unicode\n",
    "calls a digit, not just ASCII characters '0' through '9'. Let’s add two non-ASCII\n",
    "lowercase letters from FileFormat.info:\n",
    "In this test, we’ll throw in the following:\n",
    "• Three ASCII letters\n",
    "• Three punctuation symbols that should not match a \\w\n",
    "• A Unicode LATIN SMALL LETTER E WITH CIRCUMFLEX (\\u00ea)\n",
    "• A Unicode LATIN SMALL LETTER E WITH BREVE (\\u0115)"
   ]
  },
  {
   "cell_type": "code",
   "execution_count": 31,
   "metadata": {},
   "outputs": [
    {
     "name": "stdout",
     "output_type": "stream",
     "text": [
      "ê\n",
      "ĕ\n"
     ]
    },
    {
     "data": {
      "text/plain": [
       "['abc', 'êĕ']"
      ]
     },
     "execution_count": 31,
     "metadata": {},
     "output_type": "execute_result"
    }
   ],
   "source": [
    "x = 'abc' + '-/*' + '\\u00ea' + '\\u0115'\n",
    "print('\\u00ea')\n",
    "print('\\u0115')\n",
    "re.findall(r'\\w', x)"
   ]
  },
  {
   "cell_type": "markdown",
   "metadata": {},
   "source": [
    "# Patterns: Using Specifiers"
   ]
  },
  {
   "cell_type": "markdown",
   "metadata": {},
   "source": [
    "## Table 12-3. Pattern specifiers"
   ]
  },
  {
   "cell_type": "markdown",
   "metadata": {},
   "source": [
    "\n",
    "Pattern     Matches\n",
    "\n",
    "abc      =>                    Literal abc\n",
    "\n",
    "( expr )    =>                  expr\n",
    "\n",
    "expr1 | expr2     =>               expr1 or expr2\n",
    "\n",
    ".               =>             Any character except \\n\n",
    "\n",
    "^                 =>           Start of source string\n",
    "\n",
    "$                   =>         End of source string\n",
    "\n",
    "prev ?                =>       Zero or one prev\n",
    "\n",
    "prev *            =>           Zero or more prev, as many as possible\n",
    "\n",
    "prev *?         =>             Zero or more prev, as few as possible\n",
    "\n",
    "prev +          =>             One or more prev, as many as possible\n",
    "\n",
    "prev +?         =>             One or more prev, as few as possible\n",
    "\n",
    "prev { m }        =>           m consecutive prev\n",
    "\n",
    "prev { m, n }       =>         m to n consecutive prev, as many as possible\n",
    "\n",
    "prev { m, n }?        =>       m to n consecutive prev, as few as possible\n",
    "\n",
    "[ abc ]            =>          a or b or c (same as a|b|c)\n",
    "\n",
    "[^ abc ]         =>            not (a or b or c)\n",
    "\n",
    "prev (?= next )     =>         prev if followed by next\n",
    "\n",
    "prev (?! next )    =>          prev if not followed by next\n",
    "\n",
    "(?<= prev ) next      =>       next if preceded by prev\n",
    "\n",
    "(?<! prev ) next     =>        next if not preceded by prev"
   ]
  },
  {
   "cell_type": "markdown",
   "metadata": {},
   "source": [
    "Your eyes might cross permanently when trying to read these examples. First, let’s\n",
    "define our source string:"
   ]
  },
  {
   "cell_type": "code",
   "execution_count": 32,
   "metadata": {},
   "outputs": [],
   "source": [
    "source = '''I wish I may, I wish I might\n",
    "... Have a dish of fish tonight.'''"
   ]
  },
  {
   "cell_type": "markdown",
   "metadata": {},
   "source": [
    "Now we apply different regular expression pattern strings to try to match something\n",
    "in the source string."
   ]
  },
  {
   "cell_type": "code",
   "execution_count": 33,
   "metadata": {},
   "outputs": [
    {
     "data": {
      "text/plain": [
       "['wish', 'wish']"
      ]
     },
     "execution_count": 33,
     "metadata": {},
     "output_type": "execute_result"
    }
   ],
   "source": [
    "# First, find wish anywhere:\n",
    "re.findall('wish', source)"
   ]
  },
  {
   "cell_type": "code",
   "execution_count": 35,
   "metadata": {},
   "outputs": [
    {
     "data": {
      "text/plain": [
       "['wish', 'wish', 'fish']"
      ]
     },
     "execution_count": 35,
     "metadata": {},
     "output_type": "execute_result"
    }
   ],
   "source": [
    "# Next, find wish or fish anywhere:\n",
    "\n",
    "re.findall('wish|fish', source)"
   ]
  },
  {
   "cell_type": "code",
   "execution_count": 38,
   "metadata": {},
   "outputs": [
    {
     "name": "stdout",
     "output_type": "stream",
     "text": [
      "[]\n",
      "None\n"
     ]
    }
   ],
   "source": [
    "# Find wish at the beginning:\n",
    "print(re.findall('^wish', source))\n",
    "# look at the difference of these two output\n",
    "print(re.match('wish', source))"
   ]
  },
  {
   "cell_type": "code",
   "execution_count": 40,
   "metadata": {},
   "outputs": [
    {
     "name": "stdout",
     "output_type": "stream",
     "text": [
      "['I wish']\n",
      "<re.Match object; span=(0, 6), match='I wish'>\n"
     ]
    }
   ],
   "source": [
    "# Find I wish at the beginning:\n",
    "print(re.findall('^I wish', source))\n",
    "# look at the difference of these two output\n",
    "print(re.match('I wish', source))"
   ]
  },
  {
   "cell_type": "code",
   "execution_count": null,
   "metadata": {},
   "outputs": [],
   "source": []
  }
 ],
 "metadata": {
  "kernelspec": {
   "display_name": ".venv",
   "language": "python",
   "name": "python3"
  },
  "language_info": {
   "codemirror_mode": {
    "name": "ipython",
    "version": 3
   },
   "file_extension": ".py",
   "mimetype": "text/x-python",
   "name": "python",
   "nbconvert_exporter": "python",
   "pygments_lexer": "ipython3",
   "version": "3.12.2"
  }
 },
 "nbformat": 4,
 "nbformat_minor": 2
}
