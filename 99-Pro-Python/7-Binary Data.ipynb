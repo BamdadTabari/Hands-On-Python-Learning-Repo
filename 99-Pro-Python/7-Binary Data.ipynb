{
 "cells": [
  {
   "cell_type": "markdown",
   "metadata": {},
   "source": [
    "# Binary Data"
   ]
  },
  {
   "cell_type": "markdown",
   "metadata": {},
   "source": [
    "Text data can be challenging, but binary data can be, well, interesting. You need to\n",
    "know about concepts such as endianness (how your computer’s processor breaks data\n",
    "into bytes) and sign bits for integers. You might need to delve into binary file formats\n",
    "or network packets to extract or even change data. This section shows you the basics\n",
    "of binary data wrangling in Python"
   ]
  },
  {
   "cell_type": "markdown",
   "metadata": {},
   "source": [
    "# bytes and bytearray\n",
    "\n",
    "Python 3 introduced the following sequences of eight-bit integers, with possible val‐\n",
    "ues from 0 to 255, in two types:\n",
    "• bytes is immutable, like a tuple of bytes\n",
    "• bytearray is mutable, like a list of bytes\n",
    "\n",
    "Beginning with a list called blist, this next example creates a bytes variable called\n",
    "the_bytes and a bytearray variable called the_byte_array:"
   ]
  },
  {
   "cell_type": "code",
   "execution_count": 1,
   "metadata": {},
   "outputs": [
    {
     "name": "stdout",
     "output_type": "stream",
     "text": [
      "b'\\x01\\x02\\x03\\xff'\n",
      "bytearray(b'\\x01\\x02\\x03\\xff')\n"
     ]
    }
   ],
   "source": [
    "blist = [1, 2, 3, 255]\n",
    "the_bytes = bytes(blist)\n",
    "print(the_bytes)\n",
    "\n",
    "the_byte_array = bytearray(blist)\n",
    "the_byte_array\n",
    "print(the_byte_array)\n"
   ]
  },
  {
   "cell_type": "markdown",
   "metadata": {},
   "source": [
    "# NOTE :\n",
    "\n",
    "The representation of a bytes value begins with a b and a quote\n",
    "character, followed by hex sequences such as \\x02 or ASCII charac‐\n",
    "ters, and ends with a matching quote character. Python converts\n",
    "the hex sequences or ASCII characters to little integers, but shows\n",
    "byte values that are also valid ASCII encodings as ASCII\n",
    "characters:\n",
    "\n",
    "print(b'\\x61')\n",
    "=> result :\n",
    "b'a'\n",
    "\n",
    "print(b'\\x01abc\\xff')\n",
    "=> result :\n",
    "b'\\x01abc\\xff'\n"
   ]
  },
  {
   "cell_type": "markdown",
   "metadata": {},
   "source": [
    "### This next example demonstrates that you can’t change a bytes variable:"
   ]
  },
  {
   "cell_type": "code",
   "execution_count": 2,
   "metadata": {},
   "outputs": [
    {
     "ename": "TypeError",
     "evalue": "'bytes' object does not support item assignment",
     "output_type": "error",
     "traceback": [
      "\u001b[1;31m---------------------------------------------------------------------------\u001b[0m",
      "\u001b[1;31mTypeError\u001b[0m                                 Traceback (most recent call last)",
      "Cell \u001b[1;32mIn[2], line 3\u001b[0m\n\u001b[0;32m      1\u001b[0m blist \u001b[38;5;241m=\u001b[39m [\u001b[38;5;241m1\u001b[39m, \u001b[38;5;241m2\u001b[39m, \u001b[38;5;241m3\u001b[39m, \u001b[38;5;241m255\u001b[39m]\n\u001b[0;32m      2\u001b[0m the_bytes \u001b[38;5;241m=\u001b[39m \u001b[38;5;28mbytes\u001b[39m(blist)\n\u001b[1;32m----> 3\u001b[0m \u001b[43mthe_bytes\u001b[49m\u001b[43m[\u001b[49m\u001b[38;5;241;43m1\u001b[39;49m\u001b[43m]\u001b[49m \u001b[38;5;241m=\u001b[39m \u001b[38;5;241m127\u001b[39m\n",
      "\u001b[1;31mTypeError\u001b[0m: 'bytes' object does not support item assignment"
     ]
    }
   ],
   "source": [
    "blist = [1, 2, 3, 255]\n",
    "the_bytes = bytes(blist)\n",
    "the_bytes[1] = 127"
   ]
  },
  {
   "cell_type": "markdown",
   "metadata": {},
   "source": [
    "### But a bytearray variable is mellow and mutable:"
   ]
  },
  {
   "cell_type": "code",
   "execution_count": 3,
   "metadata": {},
   "outputs": [
    {
     "name": "stdout",
     "output_type": "stream",
     "text": [
      "bytearray(b'\\x01\\x02\\x03\\xff')\n",
      "bytearray(b'\\x01\\x7f\\x03\\xff')\n"
     ]
    }
   ],
   "source": [
    "blist = [1, 2, 3, 255]\n",
    "the_byte_array = bytearray(blist)\n",
    "\n",
    "print(the_byte_array)\n",
    "\n",
    "the_byte_array[1] = 127\n",
    "\n",
    "print(the_byte_array)"
   ]
  },
  {
   "cell_type": "code",
   "execution_count": null,
   "metadata": {},
   "outputs": [],
   "source": []
  }
 ],
 "metadata": {
  "kernelspec": {
   "display_name": ".venv",
   "language": "python",
   "name": "python3"
  },
  "language_info": {
   "codemirror_mode": {
    "name": "ipython",
    "version": 3
   },
   "file_extension": ".py",
   "mimetype": "text/x-python",
   "name": "python",
   "nbconvert_exporter": "python",
   "pygments_lexer": "ipython3",
   "version": "3.12.2"
  }
 },
 "nbformat": 4,
 "nbformat_minor": 2
}
