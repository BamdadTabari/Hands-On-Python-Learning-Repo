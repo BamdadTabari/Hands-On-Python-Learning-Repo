{
 "cells": [
  {
   "cell_type": "markdown",
   "metadata": {},
   "source": [
    "# Binary Data"
   ]
  },
  {
   "cell_type": "markdown",
   "metadata": {},
   "source": [
    "Text data can be challenging, but binary data can be, well, interesting. You need to\n",
    "know about concepts such as endianness (how your computer’s processor breaks data\n",
    "into bytes) and sign bits for integers. You might need to delve into binary file formats\n",
    "or network packets to extract or even change data. This section shows you the basics\n",
    "of binary data wrangling in Python"
   ]
  },
  {
   "cell_type": "markdown",
   "metadata": {},
   "source": [
    "# bytes and bytearray\n",
    "\n",
    "Python 3 introduced the following sequences of eight-bit integers, with possible val‐\n",
    "ues from 0 to 255, in two types:\n",
    "• bytes is immutable, like a tuple of bytes\n",
    "• bytearray is mutable, like a list of bytes\n",
    "\n",
    "Beginning with a list called blist, this next example creates a bytes variable called\n",
    "the_bytes and a bytearray variable called the_byte_array:"
   ]
  },
  {
   "cell_type": "code",
   "execution_count": 1,
   "metadata": {},
   "outputs": [
    {
     "name": "stdout",
     "output_type": "stream",
     "text": [
      "b'\\x01\\x02\\x03\\xff'\n",
      "bytearray(b'\\x01\\x02\\x03\\xff')\n"
     ]
    }
   ],
   "source": [
    "blist = [1, 2, 3, 255]\n",
    "the_bytes = bytes(blist)\n",
    "print(the_bytes)\n",
    "\n",
    "the_byte_array = bytearray(blist)\n",
    "the_byte_array\n",
    "print(the_byte_array)\n"
   ]
  },
  {
   "cell_type": "markdown",
   "metadata": {},
   "source": [
    "# NOTE :\n",
    "\n",
    "The representation of a bytes value begins with a b and a quote\n",
    "character, followed by hex sequences such as \\x02 or ASCII charac‐\n",
    "ters, and ends with a matching quote character. Python converts\n",
    "the hex sequences or ASCII characters to little integers, but shows\n",
    "byte values that are also valid ASCII encodings as ASCII\n",
    "characters:\n",
    "\n",
    "print(b'\\x61')\n",
    "=> result :\n",
    "b'a'\n",
    "\n",
    "print(b'\\x01abc\\xff')\n",
    "=> result :\n",
    "b'\\x01abc\\xff'\n"
   ]
  },
  {
   "cell_type": "code",
   "execution_count": null,
   "metadata": {},
   "outputs": [],
   "source": []
  },
  {
   "cell_type": "code",
   "execution_count": null,
   "metadata": {},
   "outputs": [],
   "source": []
  },
  {
   "cell_type": "code",
   "execution_count": null,
   "metadata": {},
   "outputs": [],
   "source": []
  }
 ],
 "metadata": {
  "kernelspec": {
   "display_name": ".venv",
   "language": "python",
   "name": "python3"
  },
  "language_info": {
   "codemirror_mode": {
    "name": "ipython",
    "version": 3
   },
   "file_extension": ".py",
   "mimetype": "text/x-python",
   "name": "python",
   "nbconvert_exporter": "python",
   "pygments_lexer": "ipython3",
   "version": "3.12.2"
  }
 },
 "nbformat": 4,
 "nbformat_minor": 2
}
