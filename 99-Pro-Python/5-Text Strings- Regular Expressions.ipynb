{
 "cells": [
  {
   "cell_type": "markdown",
   "metadata": {},
   "source": [
    "# Text Strings: Regular Expressions"
   ]
  },
  {
   "cell_type": "markdown",
   "metadata": {},
   "source": [
    "> It’s time to explore more complex pattern matching by using regular expressions. These are provided in the standard module re, which we’ll import"
   ]
  },
  {
   "cell_type": "code",
   "execution_count": 7,
   "metadata": {},
   "outputs": [
    {
     "name": "stdout",
     "output_type": "stream",
     "text": [
      "<re.Match object; span=(0, 3), match='you'>\n",
      "3\n",
      "11\n",
      "None\n",
      "you\n",
      "re.compile('you')\n",
      "0\n",
      "((0, 3),)\n",
      "young money\n"
     ]
    }
   ],
   "source": [
    "import re\n",
    "result = re.match(\"you\", \"young money\")\n",
    "print(result)\n",
    "print(result.end())\n",
    "print(result.endpos)\n",
    "print(result.lastindex)\n",
    "print(result.group())\n",
    "print(result.re)\n",
    "print(result.pos)\n",
    "print(result.regs)\n",
    "print(result.string)\n",
    "\n",
    "# ............................................... and more"
   ]
  },
  {
   "cell_type": "code",
   "execution_count": null,
   "metadata": {},
   "outputs": [],
   "source": []
  }
 ],
 "metadata": {
  "kernelspec": {
   "display_name": ".venv",
   "language": "python",
   "name": "python3"
  },
  "language_info": {
   "codemirror_mode": {
    "name": "ipython",
    "version": 3
   },
   "file_extension": ".py",
   "mimetype": "text/x-python",
   "name": "python",
   "nbconvert_exporter": "python",
   "pygments_lexer": "ipython3",
   "version": "3.12.2"
  }
 },
 "nbformat": 4,
 "nbformat_minor": 2
}
