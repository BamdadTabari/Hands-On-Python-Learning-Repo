{
 "cells": [
  {
   "cell_type": "markdown",
   "metadata": {},
   "source": [
    "# Text Strings: Regular Expressions"
   ]
  },
  {
   "cell_type": "markdown",
   "metadata": {},
   "source": [
    "> It’s time to explore more complex pattern matching by using regular expressions. These are provided in the standard module re, which we’ll import"
   ]
  },
  {
   "cell_type": "code",
   "execution_count": 1,
   "metadata": {},
   "outputs": [
    {
     "name": "stdout",
     "output_type": "stream",
     "text": [
      "<re.Match object; span=(0, 3), match='you'>\n",
      "3\n",
      "11\n",
      "None\n",
      "you\n",
      "re.compile('you')\n",
      "0\n",
      "((0, 3),)\n",
      "young money\n"
     ]
    }
   ],
   "source": [
    "import re\n",
    "# Here, 'You' is the pattern we’re looking for, and 'Young Frankenstein' is the source\n",
    "# (the string we want to search). match() checks whether the source begins with the\n",
    "# pattern.\n",
    "result = re.match(\"you\", \"young money\")\n",
    "print(result)\n",
    "print(result.end())\n",
    "print(result.endpos)\n",
    "print(result.lastindex)\n",
    "print(result.group())\n",
    "print(result.re)\n",
    "print(result.pos)\n",
    "print(result.regs)\n",
    "print(result.string)\n",
    "\n",
    "# ............................................... and more"
   ]
  },
  {
   "cell_type": "markdown",
   "metadata": {},
   "source": [
    ">For more complex matches, you can compile your pattern first to speed up the match later:"
   ]
  },
  {
   "cell_type": "code",
   "execution_count": 7,
   "metadata": {},
   "outputs": [
    {
     "name": "stdout",
     "output_type": "stream",
     "text": [
      "<re.Match object; span=(0, 3), match='You'>\n"
     ]
    }
   ],
   "source": [
    "import re\n",
    "thepattern = re.compile(\"You\")\n",
    "\n",
    "result = thepattern.match('Young Frankenstein')\n",
    "# is not fun? I like python for these things. its flexible\n",
    "print(result)"
   ]
  },
  {
   "cell_type": "markdown",
   "metadata": {},
   "source": [
    ">I’ll say it again here:\n",
    "match() only matches a pattern starting at the beginning of the\n",
    "source. search() matches a pattern anywhere in the source."
   ]
  },
  {
   "cell_type": "markdown",
   "metadata": {},
   "source": [
    "match() is not the only way to compare the pattern and source. Here are several other\n",
    "methods you can use (we discuss each in the following sections):\n",
    "• search() returns the first match, if any.\n",
    "• findall() returns a list of all non-overlapping matches, if any.\n",
    "• split() splits source at matches with pattern and returns a list of the string\n",
    "pieces.\n",
    "\n",
    "sub() takes another replacement argument, and changes all parts of source that\n",
    "are matched by pattern to replacement."
   ]
  },
  {
   "cell_type": "code",
   "execution_count": 5,
   "metadata": {},
   "outputs": [
    {
     "name": "stdout",
     "output_type": "stream",
     "text": [
      "<re.Match object; span=(11, 14), match='You'>\n"
     ]
    }
   ],
   "source": [
    "import re\n",
    "thepattern = re.compile(\"You\")\n",
    "\n",
    "result = thepattern.search('Lets Teast Young Frankenstein')\n",
    "print(result)"
   ]
  },
  {
   "cell_type": "markdown",
   "metadata": {},
   "source": [
    ">Most of the regular expression examples here use ASCII, but\n",
    "Python’s string functions, including regular expressions, work with\n",
    "any Python string and any Unicode characters."
   ]
  },
  {
   "cell_type": "markdown",
   "metadata": {},
   "source": [
    "# Find Exact Beginning Match with match()"
   ]
  },
  {
   "cell_type": "code",
   "execution_count": 9,
   "metadata": {},
   "outputs": [
    {
     "name": "stdout",
     "output_type": "stream",
     "text": [
      "You\n",
      "You\n"
     ]
    }
   ],
   "source": [
    "import re\n",
    "source = 'Young Frankenstein'\n",
    "m = re.match('You', source) # match starts at \"the beginning of source\"\n",
    "\n",
    "if m: # match returns an object; do this to see what matched\n",
    "    print(m.group())\n",
    "\n",
    "m = re.match('^You', source) # start anchor does the same  # ^_^\n",
    "if m:\n",
    "    print(m.group())"
   ]
  },
  {
   "cell_type": "code",
   "execution_count": null,
   "metadata": {},
   "outputs": [],
   "source": []
  }
 ],
 "metadata": {
  "kernelspec": {
   "display_name": ".venv",
   "language": "python",
   "name": "python3"
  },
  "language_info": {
   "codemirror_mode": {
    "name": "ipython",
    "version": 3
   },
   "file_extension": ".py",
   "mimetype": "text/x-python",
   "name": "python",
   "nbconvert_exporter": "python",
   "pygments_lexer": "ipython3",
   "version": "3.12.2"
  }
 },
 "nbformat": 4,
 "nbformat_minor": 2
}
